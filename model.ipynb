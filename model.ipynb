{
 "cells": [
  {
   "cell_type": "code",
   "execution_count": 526,
   "metadata": {
    "colab": {
     "base_uri": "https://localhost:8080/",
     "height": 204
    },
    "colab_type": "code",
    "id": "EyRf9i2S9cEU",
    "outputId": "e7e3fdb5-29e4-4e1b-88d6-3a5b645761d7"
   },
   "outputs": [
    {
     "name": "stderr",
     "output_type": "stream",
     "text": [
      "[nltk_data] Downloading package stopwords to\n",
      "[nltk_data]     C:\\Users\\lumen\\AppData\\Roaming\\nltk_data...\n",
      "[nltk_data]   Package stopwords is already up-to-date!\n",
      "[nltk_data] Downloading package punkt to\n",
      "[nltk_data]     C:\\Users\\lumen\\AppData\\Roaming\\nltk_data...\n",
      "[nltk_data]   Package punkt is already up-to-date!\n",
      "[nltk_data] Downloading package wordnet to\n",
      "[nltk_data]     C:\\Users\\lumen\\AppData\\Roaming\\nltk_data...\n",
      "[nltk_data]   Package wordnet is already up-to-date!\n"
     ]
    },
    {
     "data": {
      "text/plain": [
       "True"
      ]
     },
     "execution_count": 526,
     "metadata": {},
     "output_type": "execute_result"
    }
   ],
   "source": [
    "import numpy as np\n",
    "import pandas as pd\n",
    "import sklearn\n",
    "import random\n",
    "import operator\n",
    "import requests\n",
    "import nltk\n",
    "from numpy.random import seed\n",
    "nltk.download('stopwords')\n",
    "nltk.download('punkt')\n",
    "nltk.download('wordnet')"
   ]
  },
  {
   "cell_type": "code",
   "execution_count": 527,
   "metadata": {
    "colab": {
     "base_uri": "https://localhost:8080/",
     "height": 122
    },
    "colab_type": "code",
    "id": "VqnkVhi89cEf",
    "outputId": "00b4b628-ec03-46fc-8dfa-b2cd76827bd5"
   },
   "outputs": [],
   "source": [
    "path1= 'restaurant_true.txt'\n",
    "path2= 'restaurant_false.txt'\n",
    "\n",
    "ds_res_true=open(path1).readlines()\n",
    "ds_res_false=open(path2).readlines()"
   ]
  },
  {
   "cell_type": "markdown",
   "metadata": {},
   "source": [
    "#  Preprocess the data"
   ]
  },
  {
   "cell_type": "code",
   "execution_count": 528,
   "metadata": {
    "colab": {},
    "colab_type": "code",
    "id": "nJM6URcm9cEi"
   },
   "outputs": [],
   "source": [
    "for i in range(0,len(ds_res_true)):\n",
    "  ds_res_true[i]=ds_res_true[i][:-1]\n",
    "for i in range(0,len(ds_res_false)):\n",
    "  ds_res_false[i]=ds_res_false[i][:-1]\n",
    "\n",
    "\n",
    "df_res=[]   \n",
    "\n",
    "for i in range(0,len(ds_res_true)):\n",
    "  df_res.append(list([ds_res_true[i],1]))\n",
    "for i in range(0,len(ds_res_false)):\n",
    "  df_res.append(list([ds_res_false[i],0]))"
   ]
  },
  {
   "cell_type": "code",
   "execution_count": 529,
   "metadata": {
    "colab": {},
    "colab_type": "code",
    "id": "pEUCtv4N9cEr"
   },
   "outputs": [],
   "source": [
    "random.Random(102).shuffle(df_res)\n",
    "random.Random(32).shuffle(df_doc)\n",
    "\n",
    "def train_val_test_split(df):\n",
    "    df_train=[]\n",
    "    df_val=[]         \n",
    "    df_test=[]\n",
    "    for i in range(0,len(df)):\n",
    "      if i < int(len(df)*0.8):\n",
    "        df_train.append(df[i])\n",
    "      elif (i > int(len(df)*0.8) and i < int(len(df)*0.9)):\n",
    "        df_val.append(df[i])\n",
    "      else:\n",
    "        df_test.append(df[i])\n",
    "    return df_train, df_val, df_test\n",
    "\n",
    "df_res_train, df_res_val, df_res_test = train_val_test_split(df_res)"
   ]
  },
  {
   "cell_type": "code",
   "execution_count": 530,
   "metadata": {
    "colab": {},
    "colab_type": "code",
    "id": "wnf2v-yh9cEz"
   },
   "outputs": [],
   "source": [
    "lemmatizer = nltk.stem.WordNetLemmatizer()\n",
    "\n",
    "def get_list_tokens(string):\n",
    "  sentence_split=nltk.tokenize.sent_tokenize(string)    \n",
    "  list_tokens=[]\n",
    "  for sentence in sentence_split:\n",
    "    list_tokens_sentence=nltk.tokenize.word_tokenize(sentence)\n",
    "    for token in list_tokens_sentence:\n",
    "      list_tokens.append(lemmatizer.lemmatize(token).lower())\n",
    "  return list_tokens\n"
   ]
  },
  {
   "cell_type": "code",
   "execution_count": 531,
   "metadata": {
    "colab": {},
    "colab_type": "code",
    "id": "3Bl_DJUj9cE4"
   },
   "outputs": [],
   "source": [
    "stopwords=set(nltk.corpus.stopwords.words('english'))\n",
    "stopwords.add(\".\")\n",
    "stopwords.add(\",\")\n",
    "stopwords.add(\"--\")\n",
    "stopwords.add(\"``\")\n",
    "stopwords.add('#')\n",
    "stopwords.add('@')\n",
    "stopwords.add(':')\n",
    "stopwords.add('!')\n",
    "stopwords.add('?')\n",
    "stopwords.add(\"'s\")\n",
    "stopwords.add(\"'\")\n",
    "stopwords.add('...')\n",
    "stopwords.add('&')\n",
    "stopwords.add(\"’\")\n",
    "stopwords.add(\"-\")\n",
    "stopwords.add(\";\")\n",
    "stopwords.add(\"/\")\n",
    "stopwords.add(\">\")\n",
    "stopwords.add(\"<\")\n",
    "stopwords.add(\"br\")\n",
    "stopwords.add(\")\")\n",
    "stopwords.add(\"(\")\n",
    "stopwords.add(\"''\")\n",
    "stopwords.add(\"n't\")\n",
    "stopwords.add(\"wa\")\n",
    "stopwords.add(\"$\")"
   ]
  },
  {
   "cell_type": "code",
   "execution_count": 538,
   "metadata": {
    "colab": {},
    "colab_type": "code",
    "id": "Bi_bN1pI9cE7"
   },
   "outputs": [],
   "source": [
    "def get_vocabulary(df_train):\n",
    "    dict_word_freq={}                  \n",
    "    for i in range(0,len(df_train)):\n",
    "      sentence_tokens=get_list_tokens(df_train[i][0])\n",
    "      for word in sentence_tokens:\n",
    "        if word in stopwords: \n",
    "          continue\n",
    "        if word not in dict_word_freq: \n",
    "          dict_word_freq[word]=1\n",
    "        else: \n",
    "          dict_word_freq[word]+=1\n",
    "\n",
    "    sorted_list = sorted(dict_word_freq.items(), key=operator.itemgetter(1), reverse=True)[:300]\n",
    "    vocabulary=[]\n",
    "    for word,frequency in sorted_list:\n",
    "      vocabulary.append(word)\n",
    "    \n",
    "    return vocabulary \n",
    "\n",
    "\n",
    "def get_vector_text(list_vocab,string):\n",
    "  vector_text=np.zeros(len(list_vocab))\n",
    "  list_tokens_string=get_list_tokens(string)   \n",
    "  for i, word in enumerate(list_vocab):\n",
    "    if word in list_tokens_string:\n",
    "      vector_text[i]=list_tokens_string.count(word)\n",
    "  return vector_text\n",
    "\n",
    "def num_long_words(string):\n",
    "  count=0\n",
    "  words=string.split(\" \")\n",
    "  for  word in words:\n",
    "    if len(word)>5:\n",
    "      count+=1\n",
    "  return count\n",
    "\n",
    "def num_sentences(string):\n",
    "  sentences=string.split(\".\")\n",
    "  return len(sentences)\n",
    "\n",
    "\n",
    "def num_repeated_words(string):\n",
    "  unique_words=set()\n",
    "  count=0\n",
    "  punct=[',','.','?','!',\"'\",'\"',';',':']\n",
    "  words=string.split(\" \")\n",
    "  for word in words:\n",
    "    word=word.lower()\n",
    "    for i in range(0,len(punct)):\n",
    "      word=word.replace(punct[i],'')\n",
    "    if word in unique_words:\n",
    "      count+=1\n",
    "    else:\n",
    "      unique_words.add(word)\n",
    "\n",
    "  return count\n",
    "\n",
    "\n",
    "\n",
    "def total_most_used(string,vocabulary):\n",
    "  count=0\n",
    "  vector=get_vector_text(vocabulary,string)\n",
    "  for i in range(0,len(vector)):\n",
    "    count+=int(vector[i])\n",
    "  return count\n",
    "\n",
    "\n",
    "def text2vec(df,vocabulary):\n",
    "    X = []\n",
    "    Y = []\n",
    "    for i in range(0,len(df)):\n",
    "        text=df[i][0]\n",
    "        data_vector=get_vector_text(vocabulary,text)\n",
    "        feat1=np.insert(data_vector,0,num_long_words(text))\n",
    "        feat2=np.insert(feat1,0,num_sentences(text))\n",
    "        feat3=np.insert(feat2,0,num_repeated_words(text))\n",
    "        feat4=np.insert(feat3,0,total_most_used(text,vocabulary))\n",
    "        X.append(feat4)\n",
    "        Y.append(df[i][1])\n",
    "    return np.asarray(X, dtype=np.float), np.asarray(Y)"
   ]
  },
  {
   "cell_type": "markdown",
   "metadata": {},
   "source": [
    "# construct the feature vectors and label vectors, and standardize the feature vectors"
   ]
  },
  {
   "cell_type": "code",
   "execution_count": 549,
   "metadata": {
    "colab": {},
    "colab_type": "code",
    "id": "b6SLrjNS9cFQ"
   },
   "outputs": [],
   "source": [
    "from sklearn.preprocessing import StandardScaler\n",
    "def standarize(X_train, X_val, X_test):\n",
    "    scaler = StandardScaler()\n",
    "    scaler.fit(X_train)\n",
    "    X_train = scaler.transform(X_train)\n",
    "    X_val = scaler.transform(X_val)\n",
    "    X_test = scaler.transform(X_test)\n",
    "    return X_train, X_val, X_test\n",
    "\n",
    "\n",
    "def preprocess(df_train, df_val, df_test, std=True):\n",
    "    \n",
    "    vocabulary=get_vocabulary(df_train)\n",
    "    \n",
    "    X_train, Y_train = text2vec(df_train,vocabulary)\n",
    "    X_val, Y_val = text2vec(df_val,vocabulary)\n",
    "    X_test, Y_test = text2vec(df_test,vocabulary)\n",
    "    if std:\n",
    "        X_train, X_val, X_test = standarize(X_train, X_val, X_test)\n",
    "    \n",
    "    return X_train, Y_train, X_val, Y_val, X_test, Y_test\n",
    "\n",
    "X_res_train, Y_res_train, X_res_val, Y_res_val, X_res_test, Y_res_test = preprocess(df_res_train, df_res_val, df_res_test)\n",
    "#feature order (from first to last in the numpy array):\n",
    "#total uses of most used words; num repeated words; num sentences; num long words; \n",
    "    "
   ]
  },
  {
   "cell_type": "markdown",
   "metadata": {},
   "source": [
    "# Fit the models"
   ]
  },
  {
   "cell_type": "markdown",
   "metadata": {},
   "source": [
    "# SVC"
   ]
  },
  {
   "cell_type": "code",
   "execution_count": 569,
   "metadata": {},
   "outputs": [
    {
     "name": "stdout",
     "output_type": "stream",
     "text": [
      "0.22.1\n"
     ]
    }
   ],
   "source": [
    "from sklearn.svm import SVC     \n",
    "import sklearn\n",
    "print(sklearn.__version__)\n",
    "\n",
    "def train_model(X_train, Y_train):\n",
    "    clf = SVC(gamma='auto')\n",
    "    clf.fit(X_train, Y_train)\n",
    "    return clf\n",
    "\n",
    "def predict_and_evaluation(X_train, Y_train, X_val, Y_val, X_test, Y_test, clf):\n",
    "    pred_train = clf.predict(X_train)\n",
    "    pred_val = clf.predict(X_val)\n",
    "    pred_test = clf.predict(X_test)\n",
    "    acc_train = clf.score(X_train, Y_train)\n",
    "    acc_val = clf.score(X_val, Y_val)\n",
    "    acc_test = clf.score(X_test, Y_test)\n",
    "    return pred_train, pred_val, pred_test, acc_train, acc_val, acc_test\n"
   ]
  },
  {
   "cell_type": "code",
   "execution_count": 570,
   "metadata": {},
   "outputs": [
    {
     "name": "stdout",
     "output_type": "stream",
     "text": [
      "0.990625 0.7948717948717948 0.7804878048780488\n"
     ]
    }
   ],
   "source": [
    "clf_res = train_model(X_res_train, Y_res_train)\n",
    "pred_res_train_svc, pred_res_val_svc, pred_res_test_svc, acc_res_train_svc, acc_res_val_svc, acc_res_test_svc = \\\n",
    "predict_and_evaluation(X_res_train, Y_res_train, X_res_val, Y_res_val, X_res_test, Y_res_test, clf_res)\n",
    "print(acc_res_train_svc, acc_res_val_svc, acc_res_test_svc)"
   ]
  },
  {
   "cell_type": "markdown",
   "metadata": {},
   "source": [
    "# GBDT "
   ]
  },
  {
   "cell_type": "code",
   "execution_count": 574,
   "metadata": {},
   "outputs": [
    {
     "data": {
      "text/plain": [
       "GradientBoostingClassifier(ccp_alpha=0.0, criterion='friedman_mse', init=None,\n",
       "                           learning_rate=0.1, loss='deviance', max_depth=3,\n",
       "                           max_features=None, max_leaf_nodes=None,\n",
       "                           min_impurity_decrease=0.0, min_impurity_split=None,\n",
       "                           min_samples_leaf=1, min_samples_split=2,\n",
       "                           min_weight_fraction_leaf=0.0, n_estimators=100,\n",
       "                           n_iter_no_change=None, presort='deprecated',\n",
       "                           random_state=None, subsample=1.0, tol=0.0001,\n",
       "                           validation_fraction=0.1, verbose=0,\n",
       "                           warm_start=False)"
      ]
     },
     "execution_count": 574,
     "metadata": {},
     "output_type": "execute_result"
    }
   ],
   "source": [
    "from sklearn.ensemble import GradientBoostingClassifier\n",
    "gbdt = GradientBoostingClassifier()\n",
    "gbdt.fit(X_res_train,Y_res_train)"
   ]
  },
  {
   "cell_type": "code",
   "execution_count": 581,
   "metadata": {},
   "outputs": [
    {
     "name": "stdout",
     "output_type": "stream",
     "text": [
      "confusion matrix: [[23  4]\n",
      " [ 3 11]]\n",
      "Accuracy: 0.8292682926829268\n",
      "Accuracy: 0.8205128205128205\n"
     ]
    }
   ],
   "source": [
    "y_val_pred = bayes.predict(X_res_val)\n",
    "y_test_pred = gbdt.predict(X_res_test)\n",
    "print(\"confusion matrix:\", metrics.confusion_matrix(Y_res_test, y_test_pred))\n",
    "print(\"Accuracy:\", metrics.accuracy_score(Y_res_test, y_test_pred))\n",
    "print(\"Accuracy:\", metrics.accuracy_score(Y_res_val,y_val_pred ))"
   ]
  },
  {
   "cell_type": "markdown",
   "metadata": {},
   "source": [
    "# RandomForest"
   ]
  },
  {
   "cell_type": "code",
   "execution_count": 582,
   "metadata": {},
   "outputs": [
    {
     "name": "stdout",
     "output_type": "stream",
     "text": [
      "0.8717948717948718\n",
      "0.8780487804878049\n"
     ]
    }
   ],
   "source": [
    "from sklearn.ensemble import RandomForestClassifier\n",
    "text_classifier = RandomForestClassifier(n_estimators=100, random_state=0) \n",
    "text_classifier.fit(X_res_train,Y_res_train)\n",
    "y_valid_pred=text_classifier.predict(X_res_val)\n",
    "from sklearn.metrics import accuracy_score\n",
    "print(accuracy_score(Y_res_val,y_valid_pred))\n",
    "y_test_pred=text_classifier.predict(X_res_test)\n",
    "print(accuracy_score(Y_res_test,y_test_pred))"
   ]
  },
  {
   "cell_type": "markdown",
   "metadata": {},
   "source": [
    "# Neural Network"
   ]
  },
  {
   "cell_type": "code",
   "execution_count": 583,
   "metadata": {},
   "outputs": [],
   "source": [
    "import tensorflow as tf\n",
    "from tensorflow import keras\n",
    "x_n_res=[]\n",
    "y_n_res=[]\n",
    "x_n_res.extend(X_res_train)\n",
    "y_n_res.extend(Y_res_train)\n",
    "x_n_res.extend(X_res_val)\n",
    "y_n_res.extend(Y_res_val)\n",
    "x_n_res=np.asarray(x_n_res)\n",
    "y_n_res=np.asarray(y_n_res)"
   ]
  },
  {
   "cell_type": "code",
   "execution_count": 584,
   "metadata": {},
   "outputs": [
    {
     "name": "stdout",
     "output_type": "stream",
     "text": [
      "Train on 323 samples, validate on 36 samples\n",
      "Epoch 1/100\n",
      "323/323 [==============================] - 1s 3ms/sample - loss: 0.7883 - accuracy: 0.4737 - val_loss: 0.8396 - val_accuracy: 0.4444\n",
      "Epoch 2/100\n",
      "323/323 [==============================] - 0s 235us/sample - loss: 0.6957 - accuracy: 0.5573 - val_loss: 0.7806 - val_accuracy: 0.4444\n",
      "Epoch 3/100\n",
      "323/323 [==============================] - 0s 229us/sample - loss: 0.6279 - accuracy: 0.6347 - val_loss: 0.7145 - val_accuracy: 0.6667\n",
      "Epoch 4/100\n",
      "323/323 [==============================] - 0s 269us/sample - loss: 0.5784 - accuracy: 0.6966 - val_loss: 0.7075 - val_accuracy: 0.5000\n",
      "Epoch 5/100\n",
      "323/323 [==============================] - 0s 201us/sample - loss: 0.5292 - accuracy: 0.7647 - val_loss: 0.6548 - val_accuracy: 0.6944\n",
      "Epoch 6/100\n",
      "323/323 [==============================] - 0s 232us/sample - loss: 0.4914 - accuracy: 0.7833 - val_loss: 0.6293 - val_accuracy: 0.7222\n",
      "Epoch 7/100\n",
      "323/323 [==============================] - 0s 210us/sample - loss: 0.4557 - accuracy: 0.8204 - val_loss: 0.6313 - val_accuracy: 0.6944\n",
      "Epoch 8/100\n",
      "323/323 [==============================] - 0s 204us/sample - loss: 0.4240 - accuracy: 0.8452 - val_loss: 0.6058 - val_accuracy: 0.6944\n",
      "Epoch 9/100\n",
      "323/323 [==============================] - 0s 256us/sample - loss: 0.3946 - accuracy: 0.8700 - val_loss: 0.5891 - val_accuracy: 0.7222\n",
      "Epoch 10/100\n",
      "323/323 [==============================] - 0s 216us/sample - loss: 0.3680 - accuracy: 0.8947 - val_loss: 0.5641 - val_accuracy: 0.7778\n",
      "Epoch 11/100\n",
      "323/323 [==============================] - 0s 287us/sample - loss: 0.3437 - accuracy: 0.9195 - val_loss: 0.5520 - val_accuracy: 0.7222\n",
      "Epoch 12/100\n",
      "323/323 [==============================] - 0s 275us/sample - loss: 0.3215 - accuracy: 0.9319 - val_loss: 0.5398 - val_accuracy: 0.8056\n",
      "Epoch 13/100\n",
      "323/323 [==============================] - 0s 241us/sample - loss: 0.3005 - accuracy: 0.9474 - val_loss: 0.5267 - val_accuracy: 0.7778\n",
      "Epoch 14/100\n",
      "323/323 [==============================] - 0s 225us/sample - loss: 0.2831 - accuracy: 0.9474 - val_loss: 0.5205 - val_accuracy: 0.7778\n",
      "Epoch 15/100\n",
      "323/323 [==============================] - 0s 188us/sample - loss: 0.2653 - accuracy: 0.9567 - val_loss: 0.5160 - val_accuracy: 0.8056\n",
      "Epoch 16/100\n",
      "323/323 [==============================] - 0s 176us/sample - loss: 0.2485 - accuracy: 0.9690 - val_loss: 0.5002 - val_accuracy: 0.8056\n",
      "Epoch 17/100\n",
      "323/323 [==============================] - 0s 343us/sample - loss: 0.2330 - accuracy: 0.9659 - val_loss: 0.4948 - val_accuracy: 0.8056\n",
      "Epoch 18/100\n",
      "323/323 [==============================] - 0s 219us/sample - loss: 0.2192 - accuracy: 0.9721 - val_loss: 0.4865 - val_accuracy: 0.8333\n",
      "Epoch 19/100\n",
      "323/323 [==============================] - 0s 235us/sample - loss: 0.2060 - accuracy: 0.9814 - val_loss: 0.4893 - val_accuracy: 0.8056\n",
      "Epoch 20/100\n",
      "323/323 [==============================] - 0s 256us/sample - loss: 0.1941 - accuracy: 0.9752 - val_loss: 0.4795 - val_accuracy: 0.7778\n",
      "Epoch 21/100\n",
      "323/323 [==============================] - 0s 241us/sample - loss: 0.1812 - accuracy: 0.9876 - val_loss: 0.4707 - val_accuracy: 0.8056\n",
      "Epoch 22/100\n",
      "323/323 [==============================] - 0s 210us/sample - loss: 0.1702 - accuracy: 0.9907 - val_loss: 0.4742 - val_accuracy: 0.7778\n",
      "Epoch 23/100\n",
      "323/323 [==============================] - 0s 232us/sample - loss: 0.1610 - accuracy: 0.9907 - val_loss: 0.4685 - val_accuracy: 0.7778\n",
      "Epoch 24/100\n",
      "323/323 [==============================] - 0s 299us/sample - loss: 0.1518 - accuracy: 0.9907 - val_loss: 0.4595 - val_accuracy: 0.8056\n",
      "Epoch 25/100\n",
      "323/323 [==============================] - 0s 253us/sample - loss: 0.1428 - accuracy: 0.9938 - val_loss: 0.4575 - val_accuracy: 0.8056\n",
      "Epoch 26/100\n",
      "323/323 [==============================] - 0s 244us/sample - loss: 0.1348 - accuracy: 0.9907 - val_loss: 0.4547 - val_accuracy: 0.8056\n",
      "Epoch 27/100\n",
      "323/323 [==============================] - 0s 235us/sample - loss: 0.1271 - accuracy: 0.9938 - val_loss: 0.4523 - val_accuracy: 0.8056\n",
      "Epoch 28/100\n",
      "323/323 [==============================] - 0s 207us/sample - loss: 0.1204 - accuracy: 0.9938 - val_loss: 0.4490 - val_accuracy: 0.8056\n",
      "Epoch 29/100\n",
      "323/323 [==============================] - 0s 293us/sample - loss: 0.1140 - accuracy: 0.9969 - val_loss: 0.4474 - val_accuracy: 0.8056\n",
      "Epoch 30/100\n",
      "323/323 [==============================] - 0s 284us/sample - loss: 0.1082 - accuracy: 0.9969 - val_loss: 0.4413 - val_accuracy: 0.8056\n",
      "Epoch 31/100\n",
      "323/323 [==============================] - 0s 266us/sample - loss: 0.1029 - accuracy: 0.9969 - val_loss: 0.4353 - val_accuracy: 0.8056\n",
      "Epoch 32/100\n",
      "323/323 [==============================] - 0s 337us/sample - loss: 0.0975 - accuracy: 0.9969 - val_loss: 0.4403 - val_accuracy: 0.8056\n",
      "Epoch 33/100\n",
      "323/323 [==============================] - 0s 210us/sample - loss: 0.0923 - accuracy: 1.0000 - val_loss: 0.4333 - val_accuracy: 0.8056\n",
      "Epoch 34/100\n",
      "323/323 [==============================] - 0s 235us/sample - loss: 0.0879 - accuracy: 0.9969 - val_loss: 0.4373 - val_accuracy: 0.8056\n",
      "Epoch 35/100\n",
      "323/323 [==============================] - 0s 222us/sample - loss: 0.0832 - accuracy: 1.0000 - val_loss: 0.4305 - val_accuracy: 0.8056\n",
      "Epoch 36/100\n",
      "323/323 [==============================] - 0s 262us/sample - loss: 0.0792 - accuracy: 1.0000 - val_loss: 0.4275 - val_accuracy: 0.8056\n",
      "Epoch 37/100\n",
      "323/323 [==============================] - 0s 256us/sample - loss: 0.0752 - accuracy: 1.0000 - val_loss: 0.4282 - val_accuracy: 0.8056\n",
      "Epoch 38/100\n",
      "323/323 [==============================] - 0s 306us/sample - loss: 0.0718 - accuracy: 1.0000 - val_loss: 0.4232 - val_accuracy: 0.8056\n",
      "Epoch 39/100\n",
      "323/323 [==============================] - 0s 247us/sample - loss: 0.0684 - accuracy: 1.0000 - val_loss: 0.4214 - val_accuracy: 0.8056\n",
      "Epoch 40/100\n",
      "323/323 [==============================] - 0s 225us/sample - loss: 0.0654 - accuracy: 1.0000 - val_loss: 0.4215 - val_accuracy: 0.8056\n",
      "Epoch 41/100\n",
      "323/323 [==============================] - 0s 213us/sample - loss: 0.0626 - accuracy: 1.0000 - val_loss: 0.4232 - val_accuracy: 0.8333\n",
      "Epoch 42/100\n",
      "323/323 [==============================] - 0s 207us/sample - loss: 0.0598 - accuracy: 1.0000 - val_loss: 0.4275 - val_accuracy: 0.8056\n",
      "Epoch 43/100\n",
      "323/323 [==============================] - 0s 204us/sample - loss: 0.0571 - accuracy: 1.0000 - val_loss: 0.4273 - val_accuracy: 0.8056\n",
      "Epoch 44/100\n",
      "323/323 [==============================] - 0s 228us/sample - loss: 0.0547 - accuracy: 1.0000 - val_loss: 0.4243 - val_accuracy: 0.8056\n",
      "Epoch 45/100\n",
      "323/323 [==============================] - 0s 210us/sample - loss: 0.0525 - accuracy: 1.0000 - val_loss: 0.4218 - val_accuracy: 0.8056\n",
      "Epoch 46/100\n",
      "323/323 [==============================] - 0s 207us/sample - loss: 0.0507 - accuracy: 1.0000 - val_loss: 0.4295 - val_accuracy: 0.8056\n",
      "Epoch 47/100\n",
      "323/323 [==============================] - 0s 201us/sample - loss: 0.0485 - accuracy: 1.0000 - val_loss: 0.4289 - val_accuracy: 0.8056\n",
      "Epoch 48/100\n",
      "323/323 [==============================] - 0s 225us/sample - loss: 0.0468 - accuracy: 1.0000 - val_loss: 0.4245 - val_accuracy: 0.8333\n",
      "Epoch 49/100\n",
      "323/323 [==============================] - 0s 207us/sample - loss: 0.0449 - accuracy: 1.0000 - val_loss: 0.4269 - val_accuracy: 0.8056\n",
      "Epoch 50/100\n",
      "323/323 [==============================] - 0s 222us/sample - loss: 0.0433 - accuracy: 1.0000 - val_loss: 0.4293 - val_accuracy: 0.8056\n",
      "Epoch 51/100\n",
      "323/323 [==============================] - 0s 210us/sample - loss: 0.0418 - accuracy: 1.0000 - val_loss: 0.4255 - val_accuracy: 0.8056\n",
      "Epoch 52/100\n",
      "323/323 [==============================] - 0s 216us/sample - loss: 0.0403 - accuracy: 1.0000 - val_loss: 0.4258 - val_accuracy: 0.8333\n",
      "Epoch 53/100\n",
      "323/323 [==============================] - 0s 204us/sample - loss: 0.0388 - accuracy: 1.0000 - val_loss: 0.4315 - val_accuracy: 0.8056\n",
      "Epoch 54/100\n",
      "323/323 [==============================] - 0s 204us/sample - loss: 0.0373 - accuracy: 1.0000 - val_loss: 0.4303 - val_accuracy: 0.8056\n",
      "Epoch 55/100\n",
      "323/323 [==============================] - 0s 222us/sample - loss: 0.0360 - accuracy: 1.0000 - val_loss: 0.4331 - val_accuracy: 0.8056\n",
      "Epoch 56/100\n",
      "323/323 [==============================] - 0s 272us/sample - loss: 0.0348 - accuracy: 1.0000 - val_loss: 0.4299 - val_accuracy: 0.8056\n",
      "Epoch 57/100\n",
      "323/323 [==============================] - 0s 333us/sample - loss: 0.0336 - accuracy: 1.0000 - val_loss: 0.4271 - val_accuracy: 0.8333\n",
      "Epoch 58/100\n",
      "323/323 [==============================] - 0s 247us/sample - loss: 0.0325 - accuracy: 1.0000 - val_loss: 0.4272 - val_accuracy: 0.8333\n",
      "Epoch 59/100\n",
      "323/323 [==============================] - 0s 306us/sample - loss: 0.0315 - accuracy: 1.0000 - val_loss: 0.4225 - val_accuracy: 0.8333\n",
      "Epoch 60/100\n",
      "323/323 [==============================] - 0s 281us/sample - loss: 0.0305 - accuracy: 1.0000 - val_loss: 0.4246 - val_accuracy: 0.8333\n",
      "Epoch 61/100\n",
      "323/323 [==============================] - 0s 241us/sample - loss: 0.0295 - accuracy: 1.0000 - val_loss: 0.4235 - val_accuracy: 0.8333\n",
      "Epoch 62/100\n",
      "323/323 [==============================] - 0s 219us/sample - loss: 0.0286 - accuracy: 1.0000 - val_loss: 0.4265 - val_accuracy: 0.8333\n",
      "Epoch 63/100\n",
      "323/323 [==============================] - 0s 222us/sample - loss: 0.0278 - accuracy: 1.0000 - val_loss: 0.4284 - val_accuracy: 0.8333\n",
      "Epoch 64/100\n",
      "323/323 [==============================] - 0s 204us/sample - loss: 0.0269 - accuracy: 1.0000 - val_loss: 0.4280 - val_accuracy: 0.8333\n",
      "Epoch 65/100\n",
      "323/323 [==============================] - 0s 204us/sample - loss: 0.0261 - accuracy: 1.0000 - val_loss: 0.4267 - val_accuracy: 0.8333\n",
      "Epoch 66/100\n",
      "323/323 [==============================] - 0s 216us/sample - loss: 0.0255 - accuracy: 1.0000 - val_loss: 0.4286 - val_accuracy: 0.8333\n",
      "Epoch 67/100\n",
      "323/323 [==============================] - 0s 284us/sample - loss: 0.0247 - accuracy: 1.0000 - val_loss: 0.4276 - val_accuracy: 0.8333\n",
      "Epoch 68/100\n",
      "323/323 [==============================] - 0s 309us/sample - loss: 0.0241 - accuracy: 1.0000 - val_loss: 0.4271 - val_accuracy: 0.8333\n",
      "Epoch 69/100\n",
      "323/323 [==============================] - 0s 275us/sample - loss: 0.0234 - accuracy: 1.0000 - val_loss: 0.4250 - val_accuracy: 0.8333\n",
      "Epoch 70/100\n",
      "323/323 [==============================] - ETA: 0s - loss: 0.0320 - accuracy: 1.00 - 0s 213us/sample - loss: 0.0228 - accuracy: 1.0000 - val_loss: 0.4255 - val_accuracy: 0.8333\n",
      "Epoch 71/100\n",
      "323/323 [==============================] - 0s 201us/sample - loss: 0.0222 - accuracy: 1.0000 - val_loss: 0.4286 - val_accuracy: 0.8333\n",
      "Epoch 72/100\n",
      "323/323 [==============================] - 0s 377us/sample - loss: 0.0216 - accuracy: 1.0000 - val_loss: 0.4383 - val_accuracy: 0.8333\n",
      "Epoch 73/100\n",
      "323/323 [==============================] - 0s 531us/sample - loss: 0.0210 - accuracy: 1.0000 - val_loss: 0.4418 - val_accuracy: 0.8333\n",
      "Epoch 74/100\n",
      "323/323 [==============================] - 0s 290us/sample - loss: 0.0205 - accuracy: 1.0000 - val_loss: 0.4399 - val_accuracy: 0.8333\n",
      "Epoch 75/100\n",
      "323/323 [==============================] - 0s 281us/sample - loss: 0.0199 - accuracy: 1.0000 - val_loss: 0.4416 - val_accuracy: 0.8333\n",
      "Epoch 76/100\n",
      "323/323 [==============================] - 0s 472us/sample - loss: 0.0194 - accuracy: 1.0000 - val_loss: 0.4389 - val_accuracy: 0.8333\n",
      "Epoch 77/100\n",
      "323/323 [==============================] - 0s 216us/sample - loss: 0.0190 - accuracy: 1.0000 - val_loss: 0.4395 - val_accuracy: 0.8333\n",
      "Epoch 78/100\n",
      "323/323 [==============================] - 0s 259us/sample - loss: 0.0185 - accuracy: 1.0000 - val_loss: 0.4385 - val_accuracy: 0.8333\n",
      "Epoch 79/100\n",
      "323/323 [==============================] - 0s 290us/sample - loss: 0.0181 - accuracy: 1.0000 - val_loss: 0.4402 - val_accuracy: 0.8333\n",
      "Epoch 80/100\n",
      "323/323 [==============================] - 0s 219us/sample - loss: 0.0177 - accuracy: 1.0000 - val_loss: 0.4397 - val_accuracy: 0.8333\n",
      "Epoch 81/100\n",
      "323/323 [==============================] - 0s 247us/sample - loss: 0.0173 - accuracy: 1.0000 - val_loss: 0.4399 - val_accuracy: 0.8333\n",
      "Epoch 82/100\n",
      "323/323 [==============================] - 0s 244us/sample - loss: 0.0169 - accuracy: 1.0000 - val_loss: 0.4398 - val_accuracy: 0.8333\n",
      "Epoch 83/100\n",
      "323/323 [==============================] - 0s 235us/sample - loss: 0.0166 - accuracy: 1.0000 - val_loss: 0.4405 - val_accuracy: 0.8333\n",
      "Epoch 84/100\n",
      "323/323 [==============================] - 0s 398us/sample - loss: 0.0162 - accuracy: 1.0000 - val_loss: 0.4401 - val_accuracy: 0.8333\n",
      "Epoch 85/100\n",
      "323/323 [==============================] - 0s 500us/sample - loss: 0.0158 - accuracy: 1.0000 - val_loss: 0.4429 - val_accuracy: 0.8333\n",
      "Epoch 86/100\n",
      "323/323 [==============================] - 0s 500us/sample - loss: 0.0155 - accuracy: 1.0000 - val_loss: 0.4413 - val_accuracy: 0.8333\n",
      "Epoch 87/100\n",
      "323/323 [==============================] - 0s 516us/sample - loss: 0.0152 - accuracy: 1.0000 - val_loss: 0.4428 - val_accuracy: 0.8333\n",
      "Epoch 88/100\n",
      "323/323 [==============================] - 0s 682us/sample - loss: 0.0148 - accuracy: 1.0000 - val_loss: 0.4430 - val_accuracy: 0.8333\n",
      "Epoch 89/100\n",
      "323/323 [==============================] - 0s 358us/sample - loss: 0.0145 - accuracy: 1.0000 - val_loss: 0.4430 - val_accuracy: 0.8333\n",
      "Epoch 90/100\n",
      "323/323 [==============================] - 0s 278us/sample - loss: 0.0142 - accuracy: 1.0000 - val_loss: 0.4433 - val_accuracy: 0.8333\n",
      "Epoch 91/100\n",
      "323/323 [==============================] - 0s 383us/sample - loss: 0.0140 - accuracy: 1.0000 - val_loss: 0.4436 - val_accuracy: 0.8333\n",
      "Epoch 92/100\n",
      "323/323 [==============================] - 0s 309us/sample - loss: 0.0137 - accuracy: 1.0000 - val_loss: 0.4472 - val_accuracy: 0.8333\n",
      "Epoch 93/100\n",
      "323/323 [==============================] - 0s 309us/sample - loss: 0.0134 - accuracy: 1.0000 - val_loss: 0.4472 - val_accuracy: 0.8333\n",
      "Epoch 94/100\n",
      "323/323 [==============================] - 0s 371us/sample - loss: 0.0131 - accuracy: 1.0000 - val_loss: 0.4431 - val_accuracy: 0.8333\n",
      "Epoch 95/100\n",
      "323/323 [==============================] - 0s 414us/sample - loss: 0.0129 - accuracy: 1.0000 - val_loss: 0.4483 - val_accuracy: 0.8333\n",
      "Epoch 96/100\n",
      "323/323 [==============================] - 0s 309us/sample - loss: 0.0126 - accuracy: 1.0000 - val_loss: 0.4472 - val_accuracy: 0.8333\n",
      "Epoch 97/100\n",
      "323/323 [==============================] - 0s 420us/sample - loss: 0.0123 - accuracy: 1.0000 - val_loss: 0.4521 - val_accuracy: 0.8333\n",
      "Epoch 98/100\n",
      "323/323 [==============================] - 0s 531us/sample - loss: 0.0121 - accuracy: 1.0000 - val_loss: 0.4535 - val_accuracy: 0.8333\n",
      "Epoch 99/100\n",
      "323/323 [==============================] - 0s 970us/sample - loss: 0.0119 - accuracy: 1.0000 - val_loss: 0.4517 - val_accuracy: 0.8333\n",
      "Epoch 100/100\n",
      "323/323 [==============================] - 0s 482us/sample - loss: 0.0117 - accuracy: 1.0000 - val_loss: 0.4515 - val_accuracy: 0.8333\n"
     ]
    }
   ],
   "source": [
    "# Activation function:RELU\n",
    "from numpy.random import seed\n",
    "seed(0)\n",
    "tf.random.set_seed(0)    \n",
    "relu_res = keras.models.Sequential()\n",
    "#model.add(keras.layers.Flatten(input_shape=[len(X_res_train[0])]))\n",
    "relu_res.add(keras.layers.Dense(300,input_dim=X_res_train.shape[1],activation=\"relu\"))   \n",
    "relu_res.add(keras.layers.Dense(100, activation=\"relu\"))\n",
    "relu_res.add(keras.layers.Dense(2, activation=\"softmax\"))\n",
    "relu_res.compile(loss = \"sparse_categorical_crossentropy\", optimizer=\"sgd\", metrics = [\"accuracy\"])\n",
    "relu_res_history = relu_res.fit(x_n_res, y_n_res, epochs = 100, validation_split=0.1)"
   ]
  },
  {
   "cell_type": "code",
   "execution_count": 585,
   "metadata": {},
   "outputs": [
    {
     "name": "stdout",
     "output_type": "stream",
     "text": [
      "41/41 [==============================] - 0s 414us/sample - loss: 0.4038 - accuracy: 0.8537\n"
     ]
    },
    {
     "data": {
      "text/plain": [
       "[0.4038320954253034, 0.85365856]"
      ]
     },
     "execution_count": 585,
     "metadata": {},
     "output_type": "execute_result"
    }
   ],
   "source": [
    "relu_res.evaluate(X_res_test, Y_res_test)"
   ]
  },
  {
   "cell_type": "code",
   "execution_count": 586,
   "metadata": {},
   "outputs": [
    {
     "name": "stdout",
     "output_type": "stream",
     "text": [
      "Train on 323 samples, validate on 36 samples\n",
      "Epoch 1/100\n",
      "323/323 [==============================] - 1s 3ms/sample - loss: 0.7613 - accuracy: 0.5449 - val_loss: 0.7891 - val_accuracy: 0.5000\n",
      "Epoch 2/100\n",
      "323/323 [==============================] - 0s 488us/sample - loss: 0.6500 - accuracy: 0.6347 - val_loss: 0.7091 - val_accuracy: 0.6111\n",
      "Epoch 3/100\n",
      "323/323 [==============================] - 0s 469us/sample - loss: 0.5684 - accuracy: 0.6842 - val_loss: 0.6578 - val_accuracy: 0.6667\n",
      "Epoch 4/100\n",
      "323/323 [==============================] - 0s 333us/sample - loss: 0.5074 - accuracy: 0.7678 - val_loss: 0.6180 - val_accuracy: 0.6944\n",
      "Epoch 5/100\n",
      "323/323 [==============================] - 0s 361us/sample - loss: 0.4563 - accuracy: 0.8080 - val_loss: 0.5898 - val_accuracy: 0.7222\n",
      "Epoch 6/100\n",
      "323/323 [==============================] - 0s 364us/sample - loss: 0.4161 - accuracy: 0.8390 - val_loss: 0.5619 - val_accuracy: 0.7222\n",
      "Epoch 7/100\n",
      "323/323 [==============================] - 0s 278us/sample - loss: 0.3798 - accuracy: 0.8669 - val_loss: 0.5528 - val_accuracy: 0.7500\n",
      "Epoch 8/100\n",
      "323/323 [==============================] - 0s 185us/sample - loss: 0.3484 - accuracy: 0.8793 - val_loss: 0.5382 - val_accuracy: 0.7500\n",
      "Epoch 9/100\n",
      "323/323 [==============================] - 0s 232us/sample - loss: 0.3216 - accuracy: 0.9009 - val_loss: 0.5192 - val_accuracy: 0.7222\n",
      "Epoch 10/100\n",
      "323/323 [==============================] - 0s 312us/sample - loss: 0.2954 - accuracy: 0.9133 - val_loss: 0.5058 - val_accuracy: 0.7778\n",
      "Epoch 11/100\n",
      "323/323 [==============================] - 0s 185us/sample - loss: 0.2719 - accuracy: 0.9381 - val_loss: 0.4938 - val_accuracy: 0.8056\n",
      "Epoch 12/100\n",
      "323/323 [==============================] - 0s 216us/sample - loss: 0.2526 - accuracy: 0.9443 - val_loss: 0.4793 - val_accuracy: 0.7778\n",
      "Epoch 13/100\n",
      "323/323 [==============================] - 0s 191us/sample - loss: 0.2346 - accuracy: 0.9505 - val_loss: 0.4720 - val_accuracy: 0.8056\n",
      "Epoch 14/100\n",
      "323/323 [==============================] - 0s 442us/sample - loss: 0.2190 - accuracy: 0.9505 - val_loss: 0.4727 - val_accuracy: 0.7778\n",
      "Epoch 15/100\n",
      "323/323 [==============================] - 0s 364us/sample - loss: 0.2037 - accuracy: 0.9690 - val_loss: 0.4694 - val_accuracy: 0.7778\n",
      "Epoch 16/100\n",
      "323/323 [==============================] - 0s 312us/sample - loss: 0.1899 - accuracy: 0.9752 - val_loss: 0.4614 - val_accuracy: 0.7500\n",
      "Epoch 17/100\n",
      "323/323 [==============================] - 0s 173us/sample - loss: 0.1779 - accuracy: 0.9752 - val_loss: 0.4595 - val_accuracy: 0.7500\n",
      "Epoch 18/100\n",
      "323/323 [==============================] - 0s 204us/sample - loss: 0.1664 - accuracy: 0.9814 - val_loss: 0.4565 - val_accuracy: 0.7778\n",
      "Epoch 19/100\n",
      "323/323 [==============================] - 0s 182us/sample - loss: 0.1562 - accuracy: 0.9845 - val_loss: 0.4578 - val_accuracy: 0.7500\n",
      "Epoch 20/100\n",
      "323/323 [==============================] - 0s 182us/sample - loss: 0.1460 - accuracy: 0.9907 - val_loss: 0.4535 - val_accuracy: 0.8056\n",
      "Epoch 21/100\n",
      "323/323 [==============================] - 0s 204us/sample - loss: 0.1374 - accuracy: 0.9876 - val_loss: 0.4513 - val_accuracy: 0.7778\n",
      "Epoch 22/100\n",
      "323/323 [==============================] - 0s 309us/sample - loss: 0.1295 - accuracy: 0.9876 - val_loss: 0.4502 - val_accuracy: 0.8056\n",
      "Epoch 23/100\n",
      "323/323 [==============================] - 0s 275us/sample - loss: 0.1219 - accuracy: 0.9876 - val_loss: 0.4478 - val_accuracy: 0.8056\n",
      "Epoch 24/100\n",
      "323/323 [==============================] - 0s 488us/sample - loss: 0.1151 - accuracy: 0.9876 - val_loss: 0.4509 - val_accuracy: 0.7778\n",
      "Epoch 25/100\n",
      "323/323 [==============================] - 0s 232us/sample - loss: 0.1088 - accuracy: 0.9907 - val_loss: 0.4504 - val_accuracy: 0.7778\n",
      "Epoch 26/100\n",
      "323/323 [==============================] - 0s 235us/sample - loss: 0.1029 - accuracy: 0.9938 - val_loss: 0.4498 - val_accuracy: 0.7778\n",
      "Epoch 27/100\n",
      "323/323 [==============================] - 0s 324us/sample - loss: 0.0973 - accuracy: 0.9938 - val_loss: 0.4507 - val_accuracy: 0.7778\n",
      "Epoch 28/100\n",
      "323/323 [==============================] - 0s 219us/sample - loss: 0.0924 - accuracy: 0.9938 - val_loss: 0.4521 - val_accuracy: 0.7778\n",
      "Epoch 29/100\n",
      "323/323 [==============================] - 0s 213us/sample - loss: 0.0876 - accuracy: 0.9969 - val_loss: 0.4514 - val_accuracy: 0.7778\n",
      "Epoch 30/100\n",
      "323/323 [==============================] - 0s 195us/sample - loss: 0.0833 - accuracy: 0.9969 - val_loss: 0.4527 - val_accuracy: 0.7778\n",
      "Epoch 31/100\n",
      "323/323 [==============================] - 0s 284us/sample - loss: 0.0794 - accuracy: 0.9969 - val_loss: 0.4519 - val_accuracy: 0.7778\n",
      "Epoch 32/100\n",
      "323/323 [==============================] - 0s 241us/sample - loss: 0.0756 - accuracy: 1.0000 - val_loss: 0.4533 - val_accuracy: 0.7778\n",
      "Epoch 33/100\n",
      "323/323 [==============================] - 0s 238us/sample - loss: 0.0721 - accuracy: 1.0000 - val_loss: 0.4541 - val_accuracy: 0.7778\n",
      "Epoch 34/100\n",
      "323/323 [==============================] - 0s 281us/sample - loss: 0.0687 - accuracy: 1.0000 - val_loss: 0.4554 - val_accuracy: 0.8333\n",
      "Epoch 35/100\n",
      "323/323 [==============================] - 0s 284us/sample - loss: 0.0652 - accuracy: 1.0000 - val_loss: 0.4540 - val_accuracy: 0.8333\n",
      "Epoch 36/100\n",
      "323/323 [==============================] - ETA: 0s - loss: 0.0617 - accuracy: 1.00 - 0s 259us/sample - loss: 0.0623 - accuracy: 1.0000 - val_loss: 0.4523 - val_accuracy: 0.8611\n",
      "Epoch 37/100\n",
      "323/323 [==============================] - 0s 287us/sample - loss: 0.0595 - accuracy: 1.0000 - val_loss: 0.4534 - val_accuracy: 0.8611\n",
      "Epoch 38/100\n",
      "323/323 [==============================] - 0s 219us/sample - loss: 0.0571 - accuracy: 1.0000 - val_loss: 0.4499 - val_accuracy: 0.8611\n",
      "Epoch 39/100\n",
      "323/323 [==============================] - 0s 198us/sample - loss: 0.0545 - accuracy: 1.0000 - val_loss: 0.4512 - val_accuracy: 0.8333\n",
      "Epoch 40/100\n",
      "323/323 [==============================] - 0s 188us/sample - loss: 0.0523 - accuracy: 1.0000 - val_loss: 0.4533 - val_accuracy: 0.8333\n",
      "Epoch 41/100\n",
      "323/323 [==============================] - 0s 185us/sample - loss: 0.0503 - accuracy: 1.0000 - val_loss: 0.4560 - val_accuracy: 0.8333\n",
      "Epoch 42/100\n",
      "323/323 [==============================] - 0s 228us/sample - loss: 0.0484 - accuracy: 1.0000 - val_loss: 0.4570 - val_accuracy: 0.8333\n",
      "Epoch 43/100\n",
      "323/323 [==============================] - 0s 198us/sample - loss: 0.0465 - accuracy: 1.0000 - val_loss: 0.4585 - val_accuracy: 0.8333\n",
      "Epoch 44/100\n",
      "323/323 [==============================] - 0s 201us/sample - loss: 0.0448 - accuracy: 1.0000 - val_loss: 0.4606 - val_accuracy: 0.8333\n",
      "Epoch 45/100\n",
      "323/323 [==============================] - 0s 222us/sample - loss: 0.0432 - accuracy: 1.0000 - val_loss: 0.4678 - val_accuracy: 0.8333\n",
      "Epoch 46/100\n",
      "323/323 [==============================] - 0s 191us/sample - loss: 0.0417 - accuracy: 1.0000 - val_loss: 0.4704 - val_accuracy: 0.8333\n",
      "Epoch 47/100\n",
      "323/323 [==============================] - 0s 173us/sample - loss: 0.0403 - accuracy: 1.0000 - val_loss: 0.4715 - val_accuracy: 0.8333\n",
      "Epoch 48/100\n",
      "323/323 [==============================] - 0s 157us/sample - loss: 0.0389 - accuracy: 1.0000 - val_loss: 0.4717 - val_accuracy: 0.8333\n",
      "Epoch 49/100\n",
      "323/323 [==============================] - 0s 154us/sample - loss: 0.0375 - accuracy: 1.0000 - val_loss: 0.4726 - val_accuracy: 0.8333\n",
      "Epoch 50/100\n",
      "323/323 [==============================] - 0s 173us/sample - loss: 0.0363 - accuracy: 1.0000 - val_loss: 0.4728 - val_accuracy: 0.8333\n",
      "Epoch 51/100\n",
      "323/323 [==============================] - 0s 170us/sample - loss: 0.0351 - accuracy: 1.0000 - val_loss: 0.4759 - val_accuracy: 0.8333\n",
      "Epoch 52/100\n",
      "323/323 [==============================] - 0s 176us/sample - loss: 0.0340 - accuracy: 1.0000 - val_loss: 0.4776 - val_accuracy: 0.8333\n",
      "Epoch 53/100\n",
      "323/323 [==============================] - 0s 167us/sample - loss: 0.0328 - accuracy: 1.0000 - val_loss: 0.4798 - val_accuracy: 0.8333\n",
      "Epoch 54/100\n",
      "323/323 [==============================] - 0s 164us/sample - loss: 0.0318 - accuracy: 1.0000 - val_loss: 0.4820 - val_accuracy: 0.8333\n",
      "Epoch 55/100\n",
      "323/323 [==============================] - 0s 157us/sample - loss: 0.0308 - accuracy: 1.0000 - val_loss: 0.4830 - val_accuracy: 0.8333\n"
     ]
    },
    {
     "name": "stdout",
     "output_type": "stream",
     "text": [
      "Epoch 56/100\n",
      "323/323 [==============================] - 0s 182us/sample - loss: 0.0299 - accuracy: 1.0000 - val_loss: 0.4844 - val_accuracy: 0.8333\n",
      "Epoch 57/100\n",
      "323/323 [==============================] - 0s 188us/sample - loss: 0.0290 - accuracy: 1.0000 - val_loss: 0.4863 - val_accuracy: 0.8333\n",
      "Epoch 58/100\n",
      "323/323 [==============================] - 0s 244us/sample - loss: 0.0282 - accuracy: 1.0000 - val_loss: 0.4879 - val_accuracy: 0.8333\n",
      "Epoch 59/100\n",
      "323/323 [==============================] - 0s 161us/sample - loss: 0.0274 - accuracy: 1.0000 - val_loss: 0.4875 - val_accuracy: 0.8333\n",
      "Epoch 60/100\n",
      "323/323 [==============================] - 0s 188us/sample - loss: 0.0267 - accuracy: 1.0000 - val_loss: 0.4889 - val_accuracy: 0.8333\n",
      "Epoch 61/100\n",
      "323/323 [==============================] - 0s 213us/sample - loss: 0.0259 - accuracy: 1.0000 - val_loss: 0.4909 - val_accuracy: 0.8333\n",
      "Epoch 62/100\n",
      "323/323 [==============================] - 0s 173us/sample - loss: 0.0252 - accuracy: 1.0000 - val_loss: 0.4927 - val_accuracy: 0.8333\n",
      "Epoch 63/100\n",
      "323/323 [==============================] - 0s 157us/sample - loss: 0.0246 - accuracy: 1.0000 - val_loss: 0.4938 - val_accuracy: 0.8333\n",
      "Epoch 64/100\n",
      "323/323 [==============================] - 0s 167us/sample - loss: 0.0240 - accuracy: 1.0000 - val_loss: 0.4951 - val_accuracy: 0.8333\n",
      "Epoch 65/100\n",
      "323/323 [==============================] - 0s 157us/sample - loss: 0.0234 - accuracy: 1.0000 - val_loss: 0.4966 - val_accuracy: 0.8333\n",
      "Epoch 66/100\n",
      "323/323 [==============================] - 0s 161us/sample - loss: 0.0228 - accuracy: 1.0000 - val_loss: 0.4979 - val_accuracy: 0.8333\n",
      "Epoch 67/100\n",
      "323/323 [==============================] - 0s 173us/sample - loss: 0.0223 - accuracy: 1.0000 - val_loss: 0.4993 - val_accuracy: 0.8333\n",
      "Epoch 68/100\n",
      "323/323 [==============================] - ETA: 0s - loss: 0.0208 - accuracy: 1.00 - 0s 164us/sample - loss: 0.0217 - accuracy: 1.0000 - val_loss: 0.5002 - val_accuracy: 0.8333\n",
      "Epoch 69/100\n",
      "323/323 [==============================] - 0s 182us/sample - loss: 0.0212 - accuracy: 1.0000 - val_loss: 0.4999 - val_accuracy: 0.8333\n",
      "Epoch 70/100\n",
      "323/323 [==============================] - 0s 164us/sample - loss: 0.0206 - accuracy: 1.0000 - val_loss: 0.5013 - val_accuracy: 0.8333\n",
      "Epoch 71/100\n",
      "323/323 [==============================] - 0s 161us/sample - loss: 0.0202 - accuracy: 1.0000 - val_loss: 0.5027 - val_accuracy: 0.8333\n",
      "Epoch 72/100\n",
      "323/323 [==============================] - 0s 167us/sample - loss: 0.0197 - accuracy: 1.0000 - val_loss: 0.5047 - val_accuracy: 0.8333\n",
      "Epoch 73/100\n",
      "323/323 [==============================] - 0s 157us/sample - loss: 0.0193 - accuracy: 1.0000 - val_loss: 0.5073 - val_accuracy: 0.8333\n",
      "Epoch 74/100\n",
      "323/323 [==============================] - 0s 179us/sample - loss: 0.0188 - accuracy: 1.0000 - val_loss: 0.5083 - val_accuracy: 0.8333\n",
      "Epoch 75/100\n",
      "323/323 [==============================] - 0s 161us/sample - loss: 0.0184 - accuracy: 1.0000 - val_loss: 0.5106 - val_accuracy: 0.8333\n",
      "Epoch 76/100\n",
      "323/323 [==============================] - 0s 154us/sample - loss: 0.0181 - accuracy: 1.0000 - val_loss: 0.5119 - val_accuracy: 0.8333\n",
      "Epoch 77/100\n",
      "323/323 [==============================] - 0s 154us/sample - loss: 0.0177 - accuracy: 1.0000 - val_loss: 0.5131 - val_accuracy: 0.8333\n",
      "Epoch 78/100\n",
      "323/323 [==============================] - 0s 176us/sample - loss: 0.0173 - accuracy: 1.0000 - val_loss: 0.5145 - val_accuracy: 0.8333\n",
      "Epoch 79/100\n",
      "323/323 [==============================] - 0s 170us/sample - loss: 0.0170 - accuracy: 1.0000 - val_loss: 0.5158 - val_accuracy: 0.8333\n",
      "Epoch 80/100\n",
      "323/323 [==============================] - 0s 201us/sample - loss: 0.0167 - accuracy: 1.0000 - val_loss: 0.5173 - val_accuracy: 0.8333\n",
      "Epoch 81/100\n",
      "323/323 [==============================] - 0s 204us/sample - loss: 0.0164 - accuracy: 1.0000 - val_loss: 0.5193 - val_accuracy: 0.8333\n",
      "Epoch 82/100\n",
      "323/323 [==============================] - 0s 228us/sample - loss: 0.0160 - accuracy: 1.0000 - val_loss: 0.5207 - val_accuracy: 0.8333\n",
      "Epoch 83/100\n",
      "323/323 [==============================] - 0s 222us/sample - loss: 0.0157 - accuracy: 1.0000 - val_loss: 0.5221 - val_accuracy: 0.8333\n",
      "Epoch 84/100\n",
      "323/323 [==============================] - 0s 241us/sample - loss: 0.0154 - accuracy: 1.0000 - val_loss: 0.5235 - val_accuracy: 0.8333\n",
      "Epoch 85/100\n",
      "323/323 [==============================] - 0s 222us/sample - loss: 0.0151 - accuracy: 1.0000 - val_loss: 0.5253 - val_accuracy: 0.8333\n",
      "Epoch 86/100\n",
      "323/323 [==============================] - 0s 198us/sample - loss: 0.0149 - accuracy: 1.0000 - val_loss: 0.5266 - val_accuracy: 0.8333\n",
      "Epoch 87/100\n",
      "323/323 [==============================] - 0s 179us/sample - loss: 0.0146 - accuracy: 1.0000 - val_loss: 0.5280 - val_accuracy: 0.8333\n",
      "Epoch 88/100\n",
      "323/323 [==============================] - 0s 164us/sample - loss: 0.0143 - accuracy: 1.0000 - val_loss: 0.5281 - val_accuracy: 0.8333\n",
      "Epoch 89/100\n",
      "323/323 [==============================] - 0s 290us/sample - loss: 0.0141 - accuracy: 1.0000 - val_loss: 0.5302 - val_accuracy: 0.8333\n",
      "Epoch 90/100\n",
      "323/323 [==============================] - 0s 293us/sample - loss: 0.0138 - accuracy: 1.0000 - val_loss: 0.5312 - val_accuracy: 0.8333\n",
      "Epoch 91/100\n",
      "323/323 [==============================] - 0s 253us/sample - loss: 0.0136 - accuracy: 1.0000 - val_loss: 0.5326 - val_accuracy: 0.8333\n",
      "Epoch 92/100\n",
      "323/323 [==============================] - 0s 259us/sample - loss: 0.0133 - accuracy: 1.0000 - val_loss: 0.5342 - val_accuracy: 0.8333\n",
      "Epoch 93/100\n",
      "323/323 [==============================] - 0s 296us/sample - loss: 0.0131 - accuracy: 1.0000 - val_loss: 0.5356 - val_accuracy: 0.8333\n",
      "Epoch 94/100\n",
      "323/323 [==============================] - 0s 213us/sample - loss: 0.0129 - accuracy: 1.0000 - val_loss: 0.5358 - val_accuracy: 0.8333\n",
      "Epoch 95/100\n",
      "323/323 [==============================] - 0s 219us/sample - loss: 0.0127 - accuracy: 1.0000 - val_loss: 0.5386 - val_accuracy: 0.8333\n",
      "Epoch 96/100\n",
      "323/323 [==============================] - 0s 253us/sample - loss: 0.0124 - accuracy: 1.0000 - val_loss: 0.5388 - val_accuracy: 0.8333\n",
      "Epoch 97/100\n",
      "323/323 [==============================] - 0s 219us/sample - loss: 0.0122 - accuracy: 1.0000 - val_loss: 0.5404 - val_accuracy: 0.8333\n",
      "Epoch 98/100\n",
      "323/323 [==============================] - 0s 219us/sample - loss: 0.0120 - accuracy: 1.0000 - val_loss: 0.5417 - val_accuracy: 0.8056\n",
      "Epoch 99/100\n",
      "323/323 [==============================] - 0s 315us/sample - loss: 0.0118 - accuracy: 1.0000 - val_loss: 0.5426 - val_accuracy: 0.8056\n",
      "Epoch 100/100\n",
      "323/323 [==============================] - 0s 300us/sample - loss: 0.0116 - accuracy: 1.0000 - val_loss: 0.5436 - val_accuracy: 0.8056\n"
     ]
    }
   ],
   "source": [
    "#Activation function:Tanh\n",
    "seed(0)\n",
    "tf.random.set_seed(0)   \n",
    "tanh_res = keras.models.Sequential()\n",
    "tanh_res.add(keras.layers.Dense(300,input_dim=X_res_train.shape[1],activation=\"tanh\"))   \n",
    "tanh_res.add(keras.layers.Dense(100, activation=\"tanh\"))\n",
    "tanh_res.add(keras.layers.Dense(2, activation=\"softmax\"))\n",
    "tanh_res.compile(loss = \"sparse_categorical_crossentropy\", optimizer=\"sgd\", metrics = [\"accuracy\"])\n",
    "tanh_res_history = tanh_res.fit(x_n_res, y_n_res, epochs = 100, validation_split=0.1)"
   ]
  },
  {
   "cell_type": "code",
   "execution_count": 587,
   "metadata": {},
   "outputs": [
    {
     "name": "stdout",
     "output_type": "stream",
     "text": [
      "41/41 [==============================] - 0s 341us/sample - loss: 0.5009 - accuracy: 0.8049\n"
     ]
    },
    {
     "data": {
      "text/plain": [
       "[0.5008891879058466, 0.80487806]"
      ]
     },
     "execution_count": 587,
     "metadata": {},
     "output_type": "execute_result"
    }
   ],
   "source": [
    "tanh_res.evaluate(X_res_test, Y_res_test)"
   ]
  },
  {
   "cell_type": "code",
   "execution_count": 588,
   "metadata": {},
   "outputs": [
    {
     "name": "stdout",
     "output_type": "stream",
     "text": [
      "Train on 323 samples, validate on 36 samples\n",
      "Epoch 1/100\n",
      "323/323 [==============================] - 1s 3ms/sample - loss: 0.8073 - accuracy: 0.5108 - val_loss: 0.8779 - val_accuracy: 0.4167\n",
      "Epoch 2/100\n",
      "323/323 [==============================] - 0s 207us/sample - loss: 0.6708 - accuracy: 0.5975 - val_loss: 0.7651 - val_accuracy: 0.5278\n",
      "Epoch 3/100\n",
      "323/323 [==============================] - 0s 266us/sample - loss: 0.5793 - accuracy: 0.6966 - val_loss: 0.6803 - val_accuracy: 0.6667\n",
      "Epoch 4/100\n",
      "323/323 [==============================] - 0s 281us/sample - loss: 0.5146 - accuracy: 0.7430 - val_loss: 0.6414 - val_accuracy: 0.7222\n",
      "Epoch 5/100\n",
      "323/323 [==============================] - 0s 300us/sample - loss: 0.4605 - accuracy: 0.8050 - val_loss: 0.5987 - val_accuracy: 0.7778\n",
      "Epoch 6/100\n",
      "323/323 [==============================] - 0s 228us/sample - loss: 0.4212 - accuracy: 0.8297 - val_loss: 0.5664 - val_accuracy: 0.7500\n",
      "Epoch 7/100\n",
      "323/323 [==============================] - 0s 207us/sample - loss: 0.3851 - accuracy: 0.8514 - val_loss: 0.5532 - val_accuracy: 0.7778\n",
      "Epoch 8/100\n",
      "323/323 [==============================] - 0s 222us/sample - loss: 0.3544 - accuracy: 0.8669 - val_loss: 0.5328 - val_accuracy: 0.7222\n",
      "Epoch 9/100\n",
      "323/323 [==============================] - 0s 312us/sample - loss: 0.3271 - accuracy: 0.8854 - val_loss: 0.5143 - val_accuracy: 0.7778\n",
      "Epoch 10/100\n",
      "323/323 [==============================] - 0s 228us/sample - loss: 0.3017 - accuracy: 0.9133 - val_loss: 0.5063 - val_accuracy: 0.7500\n",
      "Epoch 11/100\n",
      "323/323 [==============================] - 0s 213us/sample - loss: 0.2801 - accuracy: 0.9288 - val_loss: 0.4926 - val_accuracy: 0.7500\n",
      "Epoch 12/100\n",
      "323/323 [==============================] - 0s 228us/sample - loss: 0.2614 - accuracy: 0.9350 - val_loss: 0.4802 - val_accuracy: 0.7778\n",
      "Epoch 13/100\n",
      "323/323 [==============================] - 0s 238us/sample - loss: 0.2434 - accuracy: 0.9505 - val_loss: 0.4738 - val_accuracy: 0.7778\n",
      "Epoch 14/100\n",
      "323/323 [==============================] - 0s 303us/sample - loss: 0.2287 - accuracy: 0.9567 - val_loss: 0.4771 - val_accuracy: 0.7778\n",
      "Epoch 15/100\n",
      "323/323 [==============================] - 0s 266us/sample - loss: 0.2149 - accuracy: 0.9536 - val_loss: 0.4677 - val_accuracy: 0.8056\n",
      "Epoch 16/100\n",
      "323/323 [==============================] - 0s 300us/sample - loss: 0.2004 - accuracy: 0.9628 - val_loss: 0.4552 - val_accuracy: 0.8056\n",
      "Epoch 17/100\n",
      "323/323 [==============================] - 0s 318us/sample - loss: 0.1883 - accuracy: 0.9659 - val_loss: 0.4533 - val_accuracy: 0.8056\n",
      "Epoch 18/100\n",
      "323/323 [==============================] - 0s 247us/sample - loss: 0.1772 - accuracy: 0.9628 - val_loss: 0.4461 - val_accuracy: 0.8056\n",
      "Epoch 19/100\n",
      "323/323 [==============================] - 0s 216us/sample - loss: 0.1666 - accuracy: 0.9752 - val_loss: 0.4446 - val_accuracy: 0.8056\n",
      "Epoch 20/100\n",
      "323/323 [==============================] - 0s 346us/sample - loss: 0.1566 - accuracy: 0.9845 - val_loss: 0.4420 - val_accuracy: 0.8056\n",
      "Epoch 21/100\n",
      "323/323 [==============================] - 0s 324us/sample - loss: 0.1470 - accuracy: 0.9876 - val_loss: 0.4377 - val_accuracy: 0.8056\n",
      "Epoch 22/100\n",
      "323/323 [==============================] - 0s 269us/sample - loss: 0.1386 - accuracy: 0.9876 - val_loss: 0.4439 - val_accuracy: 0.8056\n",
      "Epoch 23/100\n",
      "323/323 [==============================] - 0s 340us/sample - loss: 0.1312 - accuracy: 0.9876 - val_loss: 0.4392 - val_accuracy: 0.8056\n",
      "Epoch 24/100\n",
      "323/323 [==============================] - 0s 358us/sample - loss: 0.1239 - accuracy: 0.9876 - val_loss: 0.4355 - val_accuracy: 0.8056\n",
      "Epoch 25/100\n",
      "323/323 [==============================] - 0s 287us/sample - loss: 0.1170 - accuracy: 0.9907 - val_loss: 0.4351 - val_accuracy: 0.8056\n",
      "Epoch 26/100\n",
      "323/323 [==============================] - 0s 219us/sample - loss: 0.1107 - accuracy: 0.9938 - val_loss: 0.4355 - val_accuracy: 0.8056\n",
      "Epoch 27/100\n",
      "323/323 [==============================] - 0s 176us/sample - loss: 0.1047 - accuracy: 0.9938 - val_loss: 0.4347 - val_accuracy: 0.8056\n",
      "Epoch 28/100\n",
      "323/323 [==============================] - 0s 300us/sample - loss: 0.0994 - accuracy: 0.9938 - val_loss: 0.4335 - val_accuracy: 0.8056\n",
      "Epoch 29/100\n",
      "323/323 [==============================] - 0s 346us/sample - loss: 0.0943 - accuracy: 1.0000 - val_loss: 0.4330 - val_accuracy: 0.8056\n",
      "Epoch 30/100\n",
      "323/323 [==============================] - 0s 241us/sample - loss: 0.0898 - accuracy: 1.0000 - val_loss: 0.4308 - val_accuracy: 0.8056\n",
      "Epoch 31/100\n",
      "323/323 [==============================] - 0s 222us/sample - loss: 0.0853 - accuracy: 1.0000 - val_loss: 0.4272 - val_accuracy: 0.8056\n",
      "Epoch 32/100\n",
      "323/323 [==============================] - 0s 272us/sample - loss: 0.0811 - accuracy: 1.0000 - val_loss: 0.4309 - val_accuracy: 0.8056\n",
      "Epoch 33/100\n",
      "323/323 [==============================] - 0s 235us/sample - loss: 0.0772 - accuracy: 1.0000 - val_loss: 0.4277 - val_accuracy: 0.8333\n",
      "Epoch 34/100\n",
      "323/323 [==============================] - 0s 182us/sample - loss: 0.0736 - accuracy: 1.0000 - val_loss: 0.4288 - val_accuracy: 0.8056\n",
      "Epoch 35/100\n",
      "323/323 [==============================] - 0s 185us/sample - loss: 0.0698 - accuracy: 1.0000 - val_loss: 0.4267 - val_accuracy: 0.8333\n",
      "Epoch 36/100\n",
      "323/323 [==============================] - 0s 195us/sample - loss: 0.0668 - accuracy: 1.0000 - val_loss: 0.4245 - val_accuracy: 0.8056\n",
      "Epoch 37/100\n",
      "323/323 [==============================] - 0s 333us/sample - loss: 0.0637 - accuracy: 1.0000 - val_loss: 0.4254 - val_accuracy: 0.8333\n",
      "Epoch 38/100\n",
      "323/323 [==============================] - 0s 442us/sample - loss: 0.0610 - accuracy: 1.0000 - val_loss: 0.4199 - val_accuracy: 0.8333\n",
      "Epoch 39/100\n",
      "323/323 [==============================] - 0s 259us/sample - loss: 0.0583 - accuracy: 1.0000 - val_loss: 0.4214 - val_accuracy: 0.8333\n",
      "Epoch 40/100\n",
      "323/323 [==============================] - 0s 164us/sample - loss: 0.0559 - accuracy: 1.0000 - val_loss: 0.4229 - val_accuracy: 0.8333\n",
      "Epoch 41/100\n",
      "323/323 [==============================] - 0s 182us/sample - loss: 0.0537 - accuracy: 1.0000 - val_loss: 0.4274 - val_accuracy: 0.8333\n",
      "Epoch 42/100\n",
      "323/323 [==============================] - 0s 173us/sample - loss: 0.0515 - accuracy: 1.0000 - val_loss: 0.4317 - val_accuracy: 0.8333\n",
      "Epoch 43/100\n",
      "323/323 [==============================] - 0s 293us/sample - loss: 0.0494 - accuracy: 1.0000 - val_loss: 0.4325 - val_accuracy: 0.8333\n",
      "Epoch 44/100\n",
      "323/323 [==============================] - 0s 408us/sample - loss: 0.0475 - accuracy: 1.0000 - val_loss: 0.4312 - val_accuracy: 0.8333\n",
      "Epoch 45/100\n",
      "323/323 [==============================] - 0s 173us/sample - loss: 0.0457 - accuracy: 1.0000 - val_loss: 0.4312 - val_accuracy: 0.8056\n",
      "Epoch 46/100\n",
      "323/323 [==============================] - 0s 225us/sample - loss: 0.0443 - accuracy: 1.0000 - val_loss: 0.4387 - val_accuracy: 0.8333\n",
      "Epoch 47/100\n",
      "323/323 [==============================] - 0s 244us/sample - loss: 0.0426 - accuracy: 1.0000 - val_loss: 0.4398 - val_accuracy: 0.8333\n",
      "Epoch 48/100\n",
      "323/323 [==============================] - 0s 173us/sample - loss: 0.0411 - accuracy: 1.0000 - val_loss: 0.4374 - val_accuracy: 0.8333\n",
      "Epoch 49/100\n",
      "323/323 [==============================] - 0s 438us/sample - loss: 0.0396 - accuracy: 1.0000 - val_loss: 0.4397 - val_accuracy: 0.8333\n",
      "Epoch 50/100\n",
      "323/323 [==============================] - 0s 204us/sample - loss: 0.0383 - accuracy: 1.0000 - val_loss: 0.4419 - val_accuracy: 0.8333\n",
      "Epoch 51/100\n",
      "323/323 [==============================] - 0s 250us/sample - loss: 0.0370 - accuracy: 1.0000 - val_loss: 0.4414 - val_accuracy: 0.8333\n",
      "Epoch 52/100\n",
      "323/323 [==============================] - 0s 225us/sample - loss: 0.0358 - accuracy: 1.0000 - val_loss: 0.4432 - val_accuracy: 0.8333\n",
      "Epoch 53/100\n",
      "323/323 [==============================] - 0s 173us/sample - loss: 0.0346 - accuracy: 1.0000 - val_loss: 0.4474 - val_accuracy: 0.8333\n",
      "Epoch 54/100\n",
      "323/323 [==============================] - 0s 176us/sample - loss: 0.0334 - accuracy: 1.0000 - val_loss: 0.4480 - val_accuracy: 0.8333\n",
      "Epoch 55/100\n",
      "323/323 [==============================] - 0s 173us/sample - loss: 0.0323 - accuracy: 1.0000 - val_loss: 0.4504 - val_accuracy: 0.8333\n",
      "Epoch 56/100\n",
      "323/323 [==============================] - 0s 164us/sample - loss: 0.0313 - accuracy: 1.0000 - val_loss: 0.4506 - val_accuracy: 0.8333\n",
      "Epoch 57/100\n",
      "323/323 [==============================] - 0s 164us/sample - loss: 0.0303 - accuracy: 1.0000 - val_loss: 0.4496 - val_accuracy: 0.8333\n",
      "Epoch 58/100\n",
      "323/323 [==============================] - 0s 176us/sample - loss: 0.0295 - accuracy: 1.0000 - val_loss: 0.4502 - val_accuracy: 0.8333\n",
      "Epoch 59/100\n",
      "323/323 [==============================] - 0s 164us/sample - loss: 0.0286 - accuracy: 1.0000 - val_loss: 0.4476 - val_accuracy: 0.8333\n",
      "Epoch 60/100\n",
      "323/323 [==============================] - 0s 157us/sample - loss: 0.0278 - accuracy: 1.0000 - val_loss: 0.4491 - val_accuracy: 0.8333\n",
      "Epoch 61/100\n",
      "323/323 [==============================] - 0s 182us/sample - loss: 0.0270 - accuracy: 1.0000 - val_loss: 0.4498 - val_accuracy: 0.8333\n",
      "Epoch 62/100\n",
      "323/323 [==============================] - 0s 219us/sample - loss: 0.0262 - accuracy: 1.0000 - val_loss: 0.4526 - val_accuracy: 0.8333\n",
      "Epoch 63/100\n",
      "323/323 [==============================] - 0s 195us/sample - loss: 0.0255 - accuracy: 1.0000 - val_loss: 0.4543 - val_accuracy: 0.8333\n",
      "Epoch 64/100\n",
      "323/323 [==============================] - 0s 207us/sample - loss: 0.0248 - accuracy: 1.0000 - val_loss: 0.4553 - val_accuracy: 0.8333\n",
      "Epoch 65/100\n",
      "323/323 [==============================] - 0s 225us/sample - loss: 0.0242 - accuracy: 1.0000 - val_loss: 0.4556 - val_accuracy: 0.8611\n",
      "Epoch 66/100\n",
      "323/323 [==============================] - 0s 253us/sample - loss: 0.0236 - accuracy: 1.0000 - val_loss: 0.4576 - val_accuracy: 0.8611\n",
      "Epoch 67/100\n",
      "323/323 [==============================] - 0s 293us/sample - loss: 0.0229 - accuracy: 1.0000 - val_loss: 0.4588 - val_accuracy: 0.8333\n",
      "Epoch 68/100\n",
      "323/323 [==============================] - 0s 167us/sample - loss: 0.0224 - accuracy: 1.0000 - val_loss: 0.4592 - val_accuracy: 0.8333\n",
      "Epoch 69/100\n",
      "323/323 [==============================] - 0s 188us/sample - loss: 0.0218 - accuracy: 1.0000 - val_loss: 0.4592 - val_accuracy: 0.8333\n",
      "Epoch 70/100\n",
      "323/323 [==============================] - 0s 157us/sample - loss: 0.0212 - accuracy: 1.0000 - val_loss: 0.4601 - val_accuracy: 0.8333\n",
      "Epoch 71/100\n",
      "323/323 [==============================] - 0s 191us/sample - loss: 0.0207 - accuracy: 1.0000 - val_loss: 0.4624 - val_accuracy: 0.8333\n",
      "Epoch 72/100\n",
      "323/323 [==============================] - 0s 195us/sample - loss: 0.0202 - accuracy: 1.0000 - val_loss: 0.4688 - val_accuracy: 0.8333\n",
      "Epoch 73/100\n",
      "323/323 [==============================] - 0s 182us/sample - loss: 0.0197 - accuracy: 1.0000 - val_loss: 0.4728 - val_accuracy: 0.8333\n",
      "Epoch 74/100\n",
      "323/323 [==============================] - 0s 219us/sample - loss: 0.0192 - accuracy: 1.0000 - val_loss: 0.4734 - val_accuracy: 0.8333\n",
      "Epoch 75/100\n",
      "323/323 [==============================] - 0s 306us/sample - loss: 0.0188 - accuracy: 1.0000 - val_loss: 0.4764 - val_accuracy: 0.8333\n",
      "Epoch 76/100\n",
      "323/323 [==============================] - 0s 275us/sample - loss: 0.0184 - accuracy: 1.0000 - val_loss: 0.4765 - val_accuracy: 0.8333\n",
      "Epoch 77/100\n",
      "323/323 [==============================] - 0s 216us/sample - loss: 0.0180 - accuracy: 1.0000 - val_loss: 0.4774 - val_accuracy: 0.8333\n",
      "Epoch 78/100\n",
      "323/323 [==============================] - 0s 216us/sample - loss: 0.0176 - accuracy: 1.0000 - val_loss: 0.4782 - val_accuracy: 0.8333\n",
      "Epoch 79/100\n",
      "323/323 [==============================] - 0s 191us/sample - loss: 0.0172 - accuracy: 1.0000 - val_loss: 0.4799 - val_accuracy: 0.8333\n",
      "Epoch 80/100\n",
      "323/323 [==============================] - 0s 198us/sample - loss: 0.0169 - accuracy: 1.0000 - val_loss: 0.4808 - val_accuracy: 0.8333\n",
      "Epoch 81/100\n",
      "323/323 [==============================] - 0s 201us/sample - loss: 0.0166 - accuracy: 1.0000 - val_loss: 0.4823 - val_accuracy: 0.8333\n",
      "Epoch 82/100\n",
      "323/323 [==============================] - 0s 185us/sample - loss: 0.0162 - accuracy: 1.0000 - val_loss: 0.4833 - val_accuracy: 0.8333\n",
      "Epoch 83/100\n",
      "323/323 [==============================] - 0s 315us/sample - loss: 0.0159 - accuracy: 1.0000 - val_loss: 0.4847 - val_accuracy: 0.8333\n",
      "Epoch 84/100\n",
      "323/323 [==============================] - 0s 262us/sample - loss: 0.0156 - accuracy: 1.0000 - val_loss: 0.4858 - val_accuracy: 0.8333\n",
      "Epoch 85/100\n",
      "323/323 [==============================] - 0s 247us/sample - loss: 0.0152 - accuracy: 1.0000 - val_loss: 0.4882 - val_accuracy: 0.8333\n",
      "Epoch 86/100\n",
      "323/323 [==============================] - 0s 281us/sample - loss: 0.0149 - accuracy: 1.0000 - val_loss: 0.4877 - val_accuracy: 0.8611\n",
      "Epoch 87/100\n",
      "323/323 [==============================] - 0s 300us/sample - loss: 0.0146 - accuracy: 1.0000 - val_loss: 0.4890 - val_accuracy: 0.8611\n",
      "Epoch 88/100\n",
      "323/323 [==============================] - 0s 318us/sample - loss: 0.0144 - accuracy: 1.0000 - val_loss: 0.4894 - val_accuracy: 0.8611\n",
      "Epoch 89/100\n",
      "323/323 [==============================] - 0s 250us/sample - loss: 0.0141 - accuracy: 1.0000 - val_loss: 0.4910 - val_accuracy: 0.8611\n",
      "Epoch 90/100\n",
      "323/323 [==============================] - 0s 284us/sample - loss: 0.0138 - accuracy: 1.0000 - val_loss: 0.4920 - val_accuracy: 0.8611\n",
      "Epoch 91/100\n",
      "323/323 [==============================] - 0s 250us/sample - loss: 0.0136 - accuracy: 1.0000 - val_loss: 0.4932 - val_accuracy: 0.8611\n",
      "Epoch 92/100\n",
      "323/323 [==============================] - 0s 256us/sample - loss: 0.0133 - accuracy: 1.0000 - val_loss: 0.4953 - val_accuracy: 0.8611\n",
      "Epoch 93/100\n",
      "323/323 [==============================] - 0s 198us/sample - loss: 0.0131 - accuracy: 1.0000 - val_loss: 0.4963 - val_accuracy: 0.8611\n",
      "Epoch 94/100\n",
      "323/323 [==============================] - 0s 309us/sample - loss: 0.0128 - accuracy: 1.0000 - val_loss: 0.4953 - val_accuracy: 0.8611\n",
      "Epoch 95/100\n",
      "323/323 [==============================] - 0s 235us/sample - loss: 0.0126 - accuracy: 1.0000 - val_loss: 0.4995 - val_accuracy: 0.8611\n",
      "Epoch 96/100\n",
      "323/323 [==============================] - 0s 269us/sample - loss: 0.0124 - accuracy: 1.0000 - val_loss: 0.4987 - val_accuracy: 0.8333\n",
      "Epoch 97/100\n",
      "323/323 [==============================] - 0s 312us/sample - loss: 0.0121 - accuracy: 1.0000 - val_loss: 0.5023 - val_accuracy: 0.8333\n",
      "Epoch 98/100\n",
      "323/323 [==============================] - 0s 238us/sample - loss: 0.0119 - accuracy: 1.0000 - val_loss: 0.5038 - val_accuracy: 0.8333\n",
      "Epoch 99/100\n",
      "323/323 [==============================] - 0s 343us/sample - loss: 0.0117 - accuracy: 1.0000 - val_loss: 0.5035 - val_accuracy: 0.8611\n",
      "Epoch 100/100\n",
      "323/323 [==============================] - 0s 361us/sample - loss: 0.0115 - accuracy: 1.0000 - val_loss: 0.5046 - val_accuracy: 0.8611\n"
     ]
    }
   ],
   "source": [
    "#Activation function:LeakyReLU\n",
    "seed(0)\n",
    "tf.random.set_seed(0)   \n",
    "lr_res = keras.models.Sequential()\n",
    "lr_res.add(keras.layers.Dense(300,input_dim=X_res_train.shape[1],activation=keras.layers.LeakyReLU()))   \n",
    "lr_res.add(keras.layers.Dense(100, activation=keras.layers.LeakyReLU()))\n",
    "lr_res.add(keras.layers.Dense(2, activation=\"softmax\"))\n",
    "lr_res.compile(loss = \"sparse_categorical_crossentropy\", optimizer=\"sgd\", metrics = [\"accuracy\"])\n",
    "lr_res_history = lr_res.fit(x_n_res, y_n_res, epochs = 100, validation_split=0.1)"
   ]
  },
  {
   "cell_type": "code",
   "execution_count": 589,
   "metadata": {},
   "outputs": [
    {
     "name": "stdout",
     "output_type": "stream",
     "text": [
      "41/41 [==============================] - 0s 341us/sample - loss: 0.4050 - accuracy: 0.8537\n"
     ]
    },
    {
     "data": {
      "text/plain": [
       "[0.4050306801388903, 0.85365856]"
      ]
     },
     "execution_count": 589,
     "metadata": {},
     "output_type": "execute_result"
    }
   ],
   "source": [
    "lr_res.evaluate(X_res_test, Y_res_test)"
   ]
  },
  {
   "cell_type": "code",
   "execution_count": 591,
   "metadata": {},
   "outputs": [
    {
     "name": "stdout",
     "output_type": "stream",
     "text": [
      "Train on 323 samples, validate on 36 samples\n",
      "Epoch 1/100\n",
      "323/323 [==============================] - 1s 5ms/sample - loss: 5.3243 - accuracy: 0.4737 - val_loss: 5.3631 - val_accuracy: 0.4444\n",
      "Epoch 2/100\n",
      "323/323 [==============================] - 0s 195us/sample - loss: 5.2114 - accuracy: 0.5573 - val_loss: 5.2840 - val_accuracy: 0.4444\n",
      "Epoch 3/100\n",
      "323/323 [==============================] - 0s 309us/sample - loss: 5.1242 - accuracy: 0.6347 - val_loss: 5.1985 - val_accuracy: 0.6667\n",
      "Epoch 4/100\n",
      "323/323 [==============================] - 0s 321us/sample - loss: 5.0559 - accuracy: 0.6966 - val_loss: 5.1721 - val_accuracy: 0.5000\n",
      "Epoch 5/100\n",
      "323/323 [==============================] - 0s 287us/sample - loss: 4.9883 - accuracy: 0.7647 - val_loss: 5.1007 - val_accuracy: 0.6944\n",
      "Epoch 6/100\n",
      "323/323 [==============================] - 0s 198us/sample - loss: 4.9322 - accuracy: 0.7833 - val_loss: 5.0566 - val_accuracy: 0.7222\n",
      "Epoch 7/100\n",
      "323/323 [==============================] - 0s 188us/sample - loss: 4.8786 - accuracy: 0.8204 - val_loss: 5.0392 - val_accuracy: 0.6944\n",
      "Epoch 8/100\n",
      "323/323 [==============================] - 0s 318us/sample - loss: 4.8289 - accuracy: 0.8452 - val_loss: 4.9962 - val_accuracy: 0.6667\n",
      "Epoch 9/100\n",
      "323/323 [==============================] - 0s 389us/sample - loss: 4.7820 - accuracy: 0.8700 - val_loss: 4.9613 - val_accuracy: 0.7222\n",
      "Epoch 10/100\n",
      "323/323 [==============================] - 0s 330us/sample - loss: 4.7378 - accuracy: 0.8947 - val_loss: 4.9175 - val_accuracy: 0.7778\n",
      "Epoch 11/100\n",
      "323/323 [==============================] - 0s 318us/sample - loss: 4.6960 - accuracy: 0.9195 - val_loss: 4.8877 - val_accuracy: 0.7222\n",
      "Epoch 12/100\n",
      "323/323 [==============================] - 0s 303us/sample - loss: 4.6563 - accuracy: 0.9319 - val_loss: 4.8574 - val_accuracy: 0.8056\n",
      "Epoch 13/100\n",
      "323/323 [==============================] - 0s 219us/sample - loss: 4.6179 - accuracy: 0.9474 - val_loss: 4.8255 - val_accuracy: 0.7778\n",
      "Epoch 14/100\n",
      "323/323 [==============================] - 0s 398us/sample - loss: 4.5829 - accuracy: 0.9443 - val_loss: 4.8010 - val_accuracy: 0.7778\n",
      "Epoch 15/100\n",
      "323/323 [==============================] - ETA: 0s - loss: 4.5468 - accuracy: 0.97 - 0s 352us/sample - loss: 4.5478 - accuracy: 0.9567 - val_loss: 4.7787 - val_accuracy: 0.8056\n",
      "Epoch 16/100\n",
      "323/323 [==============================] - 0s 235us/sample - loss: 4.5135 - accuracy: 0.9659 - val_loss: 4.7451 - val_accuracy: 0.8333\n",
      "Epoch 17/100\n",
      "323/323 [==============================] - 0s 232us/sample - loss: 4.4807 - accuracy: 0.9659 - val_loss: 4.7219 - val_accuracy: 0.8056\n",
      "Epoch 18/100\n",
      "323/323 [==============================] - 0s 201us/sample - loss: 4.4496 - accuracy: 0.9721 - val_loss: 4.6957 - val_accuracy: 0.8056\n",
      "Epoch 19/100\n",
      "323/323 [==============================] - 0s 219us/sample - loss: 4.4191 - accuracy: 0.9783 - val_loss: 4.6803 - val_accuracy: 0.8056\n",
      "Epoch 20/100\n",
      "323/323 [==============================] - 0s 275us/sample - loss: 4.3899 - accuracy: 0.9752 - val_loss: 4.6519 - val_accuracy: 0.8056\n",
      "Epoch 21/100\n",
      "323/323 [==============================] - 0s 213us/sample - loss: 4.3599 - accuracy: 0.9845 - val_loss: 4.6260 - val_accuracy: 0.8056\n",
      "Epoch 22/100\n",
      "323/323 [==============================] - 0s 262us/sample - loss: 4.3317 - accuracy: 0.9907 - val_loss: 4.6106 - val_accuracy: 0.7778\n",
      "Epoch 23/100\n",
      "323/323 [==============================] - 0s 281us/sample - loss: 4.3053 - accuracy: 0.9907 - val_loss: 4.5873 - val_accuracy: 0.7778\n",
      "Epoch 24/100\n",
      "323/323 [==============================] - ETA: 0s - loss: 4.2783 - accuracy: 1.00 - 0s 247us/sample - loss: 4.2791 - accuracy: 0.9907 - val_loss: 4.5618 - val_accuracy: 0.8056\n",
      "Epoch 25/100\n",
      "323/323 [==============================] - 0s 225us/sample - loss: 4.2529 - accuracy: 0.9938 - val_loss: 4.5419 - val_accuracy: 0.8056\n",
      "Epoch 26/100\n",
      "323/323 [==============================] - 0s 195us/sample - loss: 4.2277 - accuracy: 0.9907 - val_loss: 4.5212 - val_accuracy: 0.8056\n",
      "Epoch 27/100\n",
      "323/323 [==============================] - 0s 188us/sample - loss: 4.2030 - accuracy: 0.9938 - val_loss: 4.5020 - val_accuracy: 0.8056\n",
      "Epoch 28/100\n",
      "323/323 [==============================] - 0s 191us/sample - loss: 4.1793 - accuracy: 0.9938 - val_loss: 4.4812 - val_accuracy: 0.8056\n",
      "Epoch 29/100\n",
      "323/323 [==============================] - 0s 213us/sample - loss: 4.1559 - accuracy: 0.9938 - val_loss: 4.4617 - val_accuracy: 0.8056\n",
      "Epoch 30/100\n",
      "323/323 [==============================] - 0s 201us/sample - loss: 4.1332 - accuracy: 0.9969 - val_loss: 4.4393 - val_accuracy: 0.8056\n",
      "Epoch 31/100\n",
      "323/323 [==============================] - 0s 179us/sample - loss: 4.1110 - accuracy: 0.9969 - val_loss: 4.4166 - val_accuracy: 0.8056\n",
      "Epoch 32/100\n",
      "323/323 [==============================] - 0s 185us/sample - loss: 4.0888 - accuracy: 0.9969 - val_loss: 4.4035 - val_accuracy: 0.8056\n",
      "Epoch 33/100\n",
      "323/323 [==============================] - 0s 244us/sample - loss: 4.0668 - accuracy: 1.0000 - val_loss: 4.3800 - val_accuracy: 0.8056\n",
      "Epoch 34/100\n",
      "323/323 [==============================] - 0s 395us/sample - loss: 4.0457 - accuracy: 0.9969 - val_loss: 4.3675 - val_accuracy: 0.8056\n",
      "Epoch 35/100\n",
      "323/323 [==============================] - 0s 219us/sample - loss: 4.0243 - accuracy: 1.0000 - val_loss: 4.3438 - val_accuracy: 0.8056\n",
      "Epoch 36/100\n",
      "323/323 [==============================] - 0s 266us/sample - loss: 4.0036 - accuracy: 1.0000 - val_loss: 4.3236 - val_accuracy: 0.8056\n",
      "Epoch 37/100\n",
      "323/323 [==============================] - 0s 281us/sample - loss: 3.9832 - accuracy: 1.0000 - val_loss: 4.3071 - val_accuracy: 0.8056\n",
      "Epoch 38/100\n",
      "323/323 [==============================] - 0s 253us/sample - loss: 3.9632 - accuracy: 1.0000 - val_loss: 4.2853 - val_accuracy: 0.8056\n",
      "Epoch 39/100\n",
      "323/323 [==============================] - 0s 182us/sample - loss: 3.9434 - accuracy: 1.0000 - val_loss: 4.2668 - val_accuracy: 0.8056\n",
      "Epoch 40/100\n",
      "323/323 [==============================] - 0s 173us/sample - loss: 3.9238 - accuracy: 1.0000 - val_loss: 4.2503 - val_accuracy: 0.8056\n",
      "Epoch 41/100\n",
      "323/323 [==============================] - 0s 176us/sample - loss: 3.9046 - accuracy: 1.0000 - val_loss: 4.2361 - val_accuracy: 0.8056\n",
      "Epoch 42/100\n",
      "323/323 [==============================] - 0s 198us/sample - loss: 3.8855 - accuracy: 1.0000 - val_loss: 4.2229 - val_accuracy: 0.8056\n",
      "Epoch 43/100\n",
      "323/323 [==============================] - 0s 219us/sample - loss: 3.8666 - accuracy: 1.0000 - val_loss: 4.2060 - val_accuracy: 0.8056\n",
      "Epoch 44/100\n",
      "323/323 [==============================] - 0s 349us/sample - loss: 3.8479 - accuracy: 1.0000 - val_loss: 4.1863 - val_accuracy: 0.8056\n",
      "Epoch 45/100\n",
      "323/323 [==============================] - 0s 324us/sample - loss: 3.8296 - accuracy: 1.0000 - val_loss: 4.1681 - val_accuracy: 0.7778\n",
      "Epoch 46/100\n",
      "323/323 [==============================] - 0s 204us/sample - loss: 3.8117 - accuracy: 1.0000 - val_loss: 4.1592 - val_accuracy: 0.8056\n",
      "Epoch 47/100\n",
      "323/323 [==============================] - 0s 204us/sample - loss: 3.7935 - accuracy: 1.0000 - val_loss: 4.1420 - val_accuracy: 0.8056\n",
      "Epoch 48/100\n",
      "323/323 [==============================] - 0s 185us/sample - loss: 3.7758 - accuracy: 1.0000 - val_loss: 4.1214 - val_accuracy: 0.8056\n",
      "Epoch 49/100\n",
      "323/323 [==============================] - 0s 176us/sample - loss: 3.7581 - accuracy: 1.0000 - val_loss: 4.1076 - val_accuracy: 0.8056\n",
      "Epoch 50/100\n",
      "323/323 [==============================] - 0s 266us/sample - loss: 3.7406 - accuracy: 1.0000 - val_loss: 4.0936 - val_accuracy: 0.8056\n",
      "Epoch 51/100\n",
      "323/323 [==============================] - 0s 185us/sample - loss: 3.7233 - accuracy: 1.0000 - val_loss: 4.0745 - val_accuracy: 0.8056\n",
      "Epoch 52/100\n",
      "323/323 [==============================] - 0s 204us/sample - loss: 3.7062 - accuracy: 1.0000 - val_loss: 4.0592 - val_accuracy: 0.8056\n",
      "Epoch 53/100\n",
      "323/323 [==============================] - 0s 191us/sample - loss: 3.6890 - accuracy: 1.0000 - val_loss: 4.0489 - val_accuracy: 0.8056\n",
      "Epoch 54/100\n",
      "323/323 [==============================] - 0s 207us/sample - loss: 3.6719 - accuracy: 1.0000 - val_loss: 4.0314 - val_accuracy: 0.8056\n",
      "Epoch 55/100\n",
      "323/323 [==============================] - 0s 164us/sample - loss: 3.6551 - accuracy: 1.0000 - val_loss: 4.0181 - val_accuracy: 0.8056\n",
      "Epoch 56/100\n",
      "323/323 [==============================] - 0s 364us/sample - loss: 3.6385 - accuracy: 1.0000 - val_loss: 3.9994 - val_accuracy: 0.8056\n",
      "Epoch 57/100\n",
      "323/323 [==============================] - 0s 210us/sample - loss: 3.6219 - accuracy: 1.0000 - val_loss: 3.9808 - val_accuracy: 0.8056\n",
      "Epoch 58/100\n",
      "323/323 [==============================] - 0s 164us/sample - loss: 3.6055 - accuracy: 1.0000 - val_loss: 3.9653 - val_accuracy: 0.8056\n",
      "Epoch 59/100\n",
      "323/323 [==============================] - 0s 182us/sample - loss: 3.5892 - accuracy: 1.0000 - val_loss: 3.9455 - val_accuracy: 0.8333\n",
      "Epoch 60/100\n",
      "323/323 [==============================] - 0s 164us/sample - loss: 3.5730 - accuracy: 1.0000 - val_loss: 3.9320 - val_accuracy: 0.8333\n",
      "Epoch 61/100\n",
      "323/323 [==============================] - 0s 161us/sample - loss: 3.5569 - accuracy: 1.0000 - val_loss: 3.9157 - val_accuracy: 0.8333\n",
      "Epoch 62/100\n",
      "323/323 [==============================] - 0s 170us/sample - loss: 3.5409 - accuracy: 1.0000 - val_loss: 3.9034 - val_accuracy: 0.8333\n",
      "Epoch 63/100\n",
      "323/323 [==============================] - 0s 167us/sample - loss: 3.5250 - accuracy: 1.0000 - val_loss: 3.8898 - val_accuracy: 0.8056\n",
      "Epoch 64/100\n",
      "323/323 [==============================] - 0s 213us/sample - loss: 3.5092 - accuracy: 1.0000 - val_loss: 3.8742 - val_accuracy: 0.8056\n",
      "Epoch 65/100\n",
      "323/323 [==============================] - 0s 210us/sample - loss: 3.4935 - accuracy: 1.0000 - val_loss: 3.8577 - val_accuracy: 0.8333\n",
      "Epoch 66/100\n",
      "323/323 [==============================] - 0s 161us/sample - loss: 3.4780 - accuracy: 1.0000 - val_loss: 3.8446 - val_accuracy: 0.8333\n",
      "Epoch 67/100\n",
      "323/323 [==============================] - 0s 164us/sample - loss: 3.4625 - accuracy: 1.0000 - val_loss: 3.8288 - val_accuracy: 0.8333\n",
      "Epoch 68/100\n",
      "323/323 [==============================] - 0s 191us/sample - loss: 3.4471 - accuracy: 1.0000 - val_loss: 3.8132 - val_accuracy: 0.8333\n",
      "Epoch 69/100\n",
      "323/323 [==============================] - 0s 167us/sample - loss: 3.4318 - accuracy: 1.0000 - val_loss: 3.7962 - val_accuracy: 0.8611\n",
      "Epoch 70/100\n",
      "323/323 [==============================] - 0s 164us/sample - loss: 3.4166 - accuracy: 1.0000 - val_loss: 3.7815 - val_accuracy: 0.8611\n",
      "Epoch 71/100\n",
      "323/323 [==============================] - 0s 170us/sample - loss: 3.4015 - accuracy: 1.0000 - val_loss: 3.7699 - val_accuracy: 0.8333\n",
      "Epoch 72/100\n",
      "323/323 [==============================] - 0s 164us/sample - loss: 3.3864 - accuracy: 1.0000 - val_loss: 3.7638 - val_accuracy: 0.8333\n",
      "Epoch 73/100\n",
      "323/323 [==============================] - 0s 167us/sample - loss: 3.3715 - accuracy: 1.0000 - val_loss: 3.7533 - val_accuracy: 0.8333\n",
      "Epoch 74/100\n",
      "323/323 [==============================] - 0s 170us/sample - loss: 3.3565 - accuracy: 1.0000 - val_loss: 3.7361 - val_accuracy: 0.8333\n",
      "Epoch 75/100\n",
      "323/323 [==============================] - 0s 170us/sample - loss: 3.3417 - accuracy: 1.0000 - val_loss: 3.7237 - val_accuracy: 0.8333\n",
      "Epoch 76/100\n",
      "323/323 [==============================] - 0s 173us/sample - loss: 3.3270 - accuracy: 1.0000 - val_loss: 3.7057 - val_accuracy: 0.8333\n",
      "Epoch 77/100\n",
      "323/323 [==============================] - 0s 173us/sample - loss: 3.3123 - accuracy: 1.0000 - val_loss: 3.6919 - val_accuracy: 0.8333\n",
      "Epoch 78/100\n",
      "323/323 [==============================] - 0s 176us/sample - loss: 3.2977 - accuracy: 1.0000 - val_loss: 3.6765 - val_accuracy: 0.8333\n",
      "Epoch 79/100\n",
      "323/323 [==============================] - 0s 161us/sample - loss: 3.2833 - accuracy: 1.0000 - val_loss: 3.6639 - val_accuracy: 0.8333\n",
      "Epoch 80/100\n",
      "323/323 [==============================] - 0s 185us/sample - loss: 3.2689 - accuracy: 1.0000 - val_loss: 3.6487 - val_accuracy: 0.8333\n",
      "Epoch 81/100\n",
      "323/323 [==============================] - 0s 191us/sample - loss: 3.2546 - accuracy: 1.0000 - val_loss: 3.6349 - val_accuracy: 0.8333\n",
      "Epoch 82/100\n",
      "323/323 [==============================] - 0s 525us/sample - loss: 3.2403 - accuracy: 1.0000 - val_loss: 3.6205 - val_accuracy: 0.8611\n",
      "Epoch 83/100\n",
      "323/323 [==============================] - 0s 364us/sample - loss: 3.2261 - accuracy: 1.0000 - val_loss: 3.6071 - val_accuracy: 0.8611\n",
      "Epoch 84/100\n",
      "323/323 [==============================] - 0s 213us/sample - loss: 3.2120 - accuracy: 1.0000 - val_loss: 3.5927 - val_accuracy: 0.8611\n",
      "Epoch 85/100\n",
      "323/323 [==============================] - 0s 198us/sample - loss: 3.1979 - accuracy: 1.0000 - val_loss: 3.5820 - val_accuracy: 0.8333\n",
      "Epoch 86/100\n",
      "323/323 [==============================] - 0s 256us/sample - loss: 3.1839 - accuracy: 1.0000 - val_loss: 3.5657 - val_accuracy: 0.8611\n",
      "Epoch 87/100\n",
      "323/323 [==============================] - 0s 216us/sample - loss: 3.1700 - accuracy: 1.0000 - val_loss: 3.5533 - val_accuracy: 0.8611\n",
      "Epoch 88/100\n",
      "323/323 [==============================] - 0s 198us/sample - loss: 3.1562 - accuracy: 1.0000 - val_loss: 3.5394 - val_accuracy: 0.8611\n",
      "Epoch 89/100\n",
      "323/323 [==============================] - 0s 191us/sample - loss: 3.1424 - accuracy: 1.0000 - val_loss: 3.5260 - val_accuracy: 0.8611\n",
      "Epoch 90/100\n",
      "323/323 [==============================] - 0s 216us/sample - loss: 3.1287 - accuracy: 1.0000 - val_loss: 3.5125 - val_accuracy: 0.8611\n",
      "Epoch 91/100\n",
      "323/323 [==============================] - 0s 281us/sample - loss: 3.1151 - accuracy: 1.0000 - val_loss: 3.4990 - val_accuracy: 0.8611\n",
      "Epoch 92/100\n",
      "323/323 [==============================] - 0s 232us/sample - loss: 3.1015 - accuracy: 1.0000 - val_loss: 3.4890 - val_accuracy: 0.8611\n",
      "Epoch 93/100\n",
      "323/323 [==============================] - 0s 290us/sample - loss: 3.0879 - accuracy: 1.0000 - val_loss: 3.4750 - val_accuracy: 0.8611\n",
      "Epoch 94/100\n",
      "323/323 [==============================] - 0s 309us/sample - loss: 3.0745 - accuracy: 1.0000 - val_loss: 3.4578 - val_accuracy: 0.8611\n",
      "Epoch 95/100\n",
      "323/323 [==============================] - 0s 312us/sample - loss: 3.0611 - accuracy: 1.0000 - val_loss: 3.4508 - val_accuracy: 0.8611\n",
      "Epoch 96/100\n",
      "323/323 [==============================] - 0s 272us/sample - loss: 3.0478 - accuracy: 1.0000 - val_loss: 3.4357 - val_accuracy: 0.8611\n",
      "Epoch 97/100\n",
      "323/323 [==============================] - 0s 303us/sample - loss: 3.0345 - accuracy: 1.0000 - val_loss: 3.4282 - val_accuracy: 0.8333\n",
      "Epoch 98/100\n",
      "323/323 [==============================] - 0s 232us/sample - loss: 3.0212 - accuracy: 1.0000 - val_loss: 3.4159 - val_accuracy: 0.8333\n",
      "Epoch 99/100\n",
      "323/323 [==============================] - 0s 213us/sample - loss: 3.0081 - accuracy: 1.0000 - val_loss: 3.3998 - val_accuracy: 0.8611\n",
      "Epoch 100/100\n",
      "323/323 [==============================] - 0s 250us/sample - loss: 2.9950 - accuracy: 1.0000 - val_loss: 3.3858 - val_accuracy: 0.8611\n"
     ]
    }
   ],
   "source": [
    "#With L2 Regularisation\n",
    "seed(0)\n",
    "tf.random.set_seed(0)   \n",
    "L2_res = keras.models.Sequential()\n",
    "L2_res.add(keras.layers.Dense(300, activation=\"relu\",input_dim=X_res_train.shape[1],kernel_regularizer=keras.regularizers.l2(0.01)))   \n",
    "L2_res.add(keras.layers.Dense(100, activation=\"relu\", kernel_regularizer=keras.regularizers.l2(0.01)))\n",
    "L2_res.add(keras.layers.Dense(2, activation=\"softmax\"))\n",
    "L2_res.compile(loss = \"sparse_categorical_crossentropy\", optimizer=\"sgd\", metrics = [\"accuracy\"])\n",
    "L2_res_history = L2_res.fit(x_n_res, y_n_res, epochs = 100, validation_split=0.1)"
   ]
  },
  {
   "cell_type": "code",
   "execution_count": 592,
   "metadata": {},
   "outputs": [
    {
     "name": "stdout",
     "output_type": "stream",
     "text": [
      "41/41 [==============================] - 0s 1ms/sample - loss: 0.4050 - accuracy: 0.8537\n"
     ]
    },
    {
     "data": {
      "text/plain": [
       "[0.4050306801388903, 0.85365856]"
      ]
     },
     "execution_count": 592,
     "metadata": {},
     "output_type": "execute_result"
    }
   ],
   "source": [
    "lr_res.evaluate(X_res_test, Y_res_test)"
   ]
  },
  {
   "cell_type": "code",
   "execution_count": 593,
   "metadata": {},
   "outputs": [
    {
     "name": "stdout",
     "output_type": "stream",
     "text": [
      "Train on 323 samples, validate on 36 samples\n",
      "Epoch 1/100\n",
      "323/323 [==============================] - 2s 6ms/sample - loss: 0.8522 - accuracy: 0.4644 - val_loss: 0.8775 - val_accuracy: 0.4167\n",
      "Epoch 2/100\n",
      "323/323 [==============================] - 0s 207us/sample - loss: 0.7938 - accuracy: 0.5201 - val_loss: 0.7906 - val_accuracy: 0.5000\n",
      "Epoch 3/100\n",
      "323/323 [==============================] - 0s 216us/sample - loss: 0.7232 - accuracy: 0.5882 - val_loss: 0.7220 - val_accuracy: 0.6667\n",
      "Epoch 4/100\n",
      "323/323 [==============================] - 0s 287us/sample - loss: 0.6704 - accuracy: 0.6130 - val_loss: 0.7030 - val_accuracy: 0.5833\n",
      "Epoch 5/100\n",
      "323/323 [==============================] - 0s 414us/sample - loss: 0.6353 - accuracy: 0.6378 - val_loss: 0.6639 - val_accuracy: 0.6667\n",
      "Epoch 6/100\n",
      "323/323 [==============================] - 0s 423us/sample - loss: 0.5931 - accuracy: 0.6749 - val_loss: 0.6388 - val_accuracy: 0.7500\n",
      "Epoch 7/100\n",
      "323/323 [==============================] - 0s 232us/sample - loss: 0.5378 - accuracy: 0.7090 - val_loss: 0.6489 - val_accuracy: 0.6111\n",
      "Epoch 8/100\n",
      "323/323 [==============================] - 0s 256us/sample - loss: 0.5150 - accuracy: 0.7337 - val_loss: 0.6216 - val_accuracy: 0.6667\n",
      "Epoch 9/100\n",
      "323/323 [==============================] - 0s 241us/sample - loss: 0.5052 - accuracy: 0.7337 - val_loss: 0.6053 - val_accuracy: 0.6944\n",
      "Epoch 10/100\n",
      "323/323 [==============================] - 0s 250us/sample - loss: 0.4879 - accuracy: 0.7771 - val_loss: 0.5826 - val_accuracy: 0.7778\n",
      "Epoch 11/100\n",
      "323/323 [==============================] - 0s 232us/sample - loss: 0.4509 - accuracy: 0.8050 - val_loss: 0.5825 - val_accuracy: 0.7222\n",
      "Epoch 12/100\n",
      "323/323 [==============================] - 0s 232us/sample - loss: 0.4237 - accuracy: 0.8297 - val_loss: 0.5580 - val_accuracy: 0.7778\n",
      "Epoch 13/100\n",
      "323/323 [==============================] - 0s 284us/sample - loss: 0.4218 - accuracy: 0.8204 - val_loss: 0.5469 - val_accuracy: 0.8056\n",
      "Epoch 14/100\n",
      "323/323 [==============================] - 0s 275us/sample - loss: 0.4067 - accuracy: 0.8297 - val_loss: 0.5388 - val_accuracy: 0.8056\n",
      "Epoch 15/100\n",
      "323/323 [==============================] - 0s 228us/sample - loss: 0.3763 - accuracy: 0.8421 - val_loss: 0.5392 - val_accuracy: 0.7778\n",
      "Epoch 16/100\n",
      "323/323 [==============================] - 0s 225us/sample - loss: 0.3667 - accuracy: 0.8669 - val_loss: 0.5158 - val_accuracy: 0.8056\n",
      "Epoch 17/100\n",
      "323/323 [==============================] - 0s 278us/sample - loss: 0.3445 - accuracy: 0.8700 - val_loss: 0.5092 - val_accuracy: 0.8056\n",
      "Epoch 18/100\n",
      "323/323 [==============================] - 0s 216us/sample - loss: 0.3350 - accuracy: 0.8824 - val_loss: 0.4994 - val_accuracy: 0.8056\n",
      "Epoch 19/100\n",
      "323/323 [==============================] - 0s 185us/sample - loss: 0.3123 - accuracy: 0.9102 - val_loss: 0.4928 - val_accuracy: 0.8056\n",
      "Epoch 20/100\n",
      "323/323 [==============================] - 0s 201us/sample - loss: 0.3037 - accuracy: 0.8978 - val_loss: 0.4849 - val_accuracy: 0.7778\n",
      "Epoch 21/100\n",
      "323/323 [==============================] - 0s 232us/sample - loss: 0.2740 - accuracy: 0.9133 - val_loss: 0.4704 - val_accuracy: 0.7778\n",
      "Epoch 22/100\n",
      "323/323 [==============================] - 0s 213us/sample - loss: 0.2743 - accuracy: 0.8978 - val_loss: 0.4712 - val_accuracy: 0.8056\n",
      "Epoch 23/100\n",
      "323/323 [==============================] - 0s 238us/sample - loss: 0.2540 - accuracy: 0.9257 - val_loss: 0.4681 - val_accuracy: 0.8056\n",
      "Epoch 24/100\n",
      "323/323 [==============================] - 0s 278us/sample - loss: 0.2463 - accuracy: 0.9226 - val_loss: 0.4626 - val_accuracy: 0.7778\n",
      "Epoch 25/100\n",
      "323/323 [==============================] - 0s 333us/sample - loss: 0.2439 - accuracy: 0.9164 - val_loss: 0.4654 - val_accuracy: 0.8056\n",
      "Epoch 26/100\n",
      "323/323 [==============================] - 0s 312us/sample - loss: 0.2219 - accuracy: 0.9195 - val_loss: 0.4517 - val_accuracy: 0.8056\n",
      "Epoch 27/100\n",
      "323/323 [==============================] - 0s 188us/sample - loss: 0.2045 - accuracy: 0.9505 - val_loss: 0.4449 - val_accuracy: 0.7778\n",
      "Epoch 28/100\n",
      "323/323 [==============================] - 0s 188us/sample - loss: 0.2103 - accuracy: 0.9412 - val_loss: 0.4419 - val_accuracy: 0.7778\n",
      "Epoch 29/100\n",
      "323/323 [==============================] - 0s 185us/sample - loss: 0.2024 - accuracy: 0.9350 - val_loss: 0.4384 - val_accuracy: 0.7778\n",
      "Epoch 30/100\n",
      "323/323 [==============================] - 0s 216us/sample - loss: 0.2049 - accuracy: 0.9226 - val_loss: 0.4628 - val_accuracy: 0.8056\n",
      "Epoch 31/100\n",
      "323/323 [==============================] - 0s 188us/sample - loss: 0.1828 - accuracy: 0.9474 - val_loss: 0.4401 - val_accuracy: 0.7778\n",
      "Epoch 32/100\n",
      "323/323 [==============================] - 0s 244us/sample - loss: 0.1765 - accuracy: 0.9628 - val_loss: 0.4464 - val_accuracy: 0.8056\n",
      "Epoch 33/100\n",
      "323/323 [==============================] - 0s 213us/sample - loss: 0.1510 - accuracy: 0.9659 - val_loss: 0.4298 - val_accuracy: 0.7778\n",
      "Epoch 34/100\n",
      "323/323 [==============================] - 0s 216us/sample - loss: 0.1574 - accuracy: 0.9659 - val_loss: 0.4432 - val_accuracy: 0.8056\n",
      "Epoch 35/100\n",
      "323/323 [==============================] - 0s 188us/sample - loss: 0.1688 - accuracy: 0.9474 - val_loss: 0.4319 - val_accuracy: 0.7778\n",
      "Epoch 36/100\n",
      "323/323 [==============================] - 0s 216us/sample - loss: 0.1442 - accuracy: 0.9690 - val_loss: 0.4187 - val_accuracy: 0.8056\n",
      "Epoch 37/100\n",
      "323/323 [==============================] - 0s 195us/sample - loss: 0.1478 - accuracy: 0.9659 - val_loss: 0.4208 - val_accuracy: 0.8056\n",
      "Epoch 38/100\n",
      "323/323 [==============================] - 0s 185us/sample - loss: 0.1296 - accuracy: 0.9783 - val_loss: 0.4181 - val_accuracy: 0.8056\n",
      "Epoch 39/100\n",
      "323/323 [==============================] - 0s 191us/sample - loss: 0.1154 - accuracy: 0.9876 - val_loss: 0.4161 - val_accuracy: 0.8056\n",
      "Epoch 40/100\n",
      "323/323 [==============================] - 0s 266us/sample - loss: 0.1175 - accuracy: 0.9783 - val_loss: 0.4190 - val_accuracy: 0.8056\n",
      "Epoch 41/100\n",
      "323/323 [==============================] - 0s 179us/sample - loss: 0.1178 - accuracy: 0.9845 - val_loss: 0.4634 - val_accuracy: 0.8056\n",
      "Epoch 42/100\n",
      "323/323 [==============================] - 0s 182us/sample - loss: 0.1330 - accuracy: 0.9628 - val_loss: 0.4448 - val_accuracy: 0.8056\n",
      "Epoch 43/100\n",
      "323/323 [==============================] - 0s 364us/sample - loss: 0.1010 - accuracy: 0.9845 - val_loss: 0.4345 - val_accuracy: 0.7778\n",
      "Epoch 44/100\n",
      "323/323 [==============================] - 0s 259us/sample - loss: 0.0966 - accuracy: 0.9845 - val_loss: 0.4333 - val_accuracy: 0.7778\n",
      "Epoch 45/100\n",
      "323/323 [==============================] - 0s 229us/sample - loss: 0.1153 - accuracy: 0.9876 - val_loss: 0.4330 - val_accuracy: 0.8056\n",
      "Epoch 46/100\n",
      "323/323 [==============================] - 0s 228us/sample - loss: 0.1063 - accuracy: 0.9783 - val_loss: 0.4461 - val_accuracy: 0.7778\n",
      "Epoch 47/100\n",
      "323/323 [==============================] - 0s 201us/sample - loss: 0.0960 - accuracy: 0.9752 - val_loss: 0.4416 - val_accuracy: 0.7778\n",
      "Epoch 48/100\n",
      "323/323 [==============================] - 0s 198us/sample - loss: 0.0907 - accuracy: 0.9814 - val_loss: 0.4410 - val_accuracy: 0.7778\n",
      "Epoch 49/100\n",
      "323/323 [==============================] - 0s 225us/sample - loss: 0.0894 - accuracy: 0.9845 - val_loss: 0.4345 - val_accuracy: 0.7778\n"
     ]
    }
   ],
   "source": [
    "#Drop Out\n",
    "seed(0)\n",
    "tf.random.set_seed(0)  \n",
    "early_stopping_cb = keras.callbacks.EarlyStopping(patience=10, restore_best_weights=True)\n",
    "drop_res = keras.models.Sequential()\n",
    "drop_res.add(keras.layers.Dense(300,input_dim=X_res_train.shape[1],activation=\"relu\"))   \n",
    "drop_res.add(keras.layers.Dropout(rate=0.2))\n",
    "drop_res.add(keras.layers.Dense(100, activation=\"relu\"))\n",
    "drop_res.add(keras.layers.Dropout(rate=0.2))\n",
    "drop_res.add(keras.layers.Dense(2, activation=\"softmax\"))\n",
    "drop_res.compile(loss = \"sparse_categorical_crossentropy\", optimizer=\"sgd\", metrics = [\"accuracy\"])\n",
    "drop_res_history = drop_res.fit(x_n_res, y_n_res, epochs = 100, validation_split=0.1, callbacks=[early_stopping_cb])"
   ]
  },
  {
   "cell_type": "code",
   "execution_count": 594,
   "metadata": {},
   "outputs": [
    {
     "name": "stdout",
     "output_type": "stream",
     "text": [
      "41/41 [==============================] - 0s 316us/sample - loss: 0.4028 - accuracy: 0.7805\n"
     ]
    },
    {
     "data": {
      "text/plain": [
       "[0.4027860179180052, 0.7804878]"
      ]
     },
     "execution_count": 594,
     "metadata": {},
     "output_type": "execute_result"
    }
   ],
   "source": [
    "drop_res.evaluate(X_res_test, Y_res_test)"
   ]
  },
  {
   "cell_type": "code",
   "execution_count": 595,
   "metadata": {},
   "outputs": [
    {
     "data": {
      "image/png": "[encoded data removed]",
      "text/plain": [
       "<Figure size 432x288 with 1 Axes>"
      ]
     },
     "metadata": {
      "needs_background": "light"
     },
     "output_type": "display_data"
    },
    {
     "data": {
      "image/png": "[encoded data removed]",
      "text/plain": [
       "<Figure size 432x288 with 1 Axes>"
      ]
     },
     "metadata": {
      "needs_background": "light"
     },
     "output_type": "display_data"
    }
   ],
   "source": [
    "plt.plot(relu_res_history.history['accuracy'])\n",
    "plt.plot(L2_res_history.history['accuracy'])\n",
    "plt.plot(lr_res_history.history['accuracy'])\n",
    "plt.plot(drop_res_history.history['accuracy'])\n",
    "plt.plot(tanh_res_history.history['accuracy'])\n",
    "plt.title('Accuracy')\n",
    "plt.ylabel('Accuracy')\n",
    "plt.xlabel('Epoch')\n",
    "plt.legend(['ReLU','L2', 'Leaky ReLU','drop out','tanh'], loc='upper left')\n",
    "plt.show()\n",
    "\n",
    "plt.plot(relu_res_history.history['loss'])\n",
    "plt.plot(L2_res_history.history['loss'])\n",
    "plt.plot(lr_res_history.history['loss'])\n",
    "plt.plot(drop_res_history.history['loss'])\n",
    "plt.plot(tanh_res_history.history['loss'])\n",
    "plt.title('Loss')\n",
    "plt.ylabel('Loss')\n",
    "plt.xlabel('Epoch')\n",
    "plt.legend(['ReLU','L2', 'Leaky ReLU','drop out','tanh'], loc='upper left')\n",
    "plt.show()"
   ]
  },
  {
   "cell_type": "markdown",
   "metadata": {},
   "source": [
    "# Error analysis"
   ]
  },
  {
   "cell_type": "code",
   "execution_count": 596,
   "metadata": {},
   "outputs": [],
   "source": [
    "#return false positive, fasle negative, prediction lable(0,1) for test set   \n",
    "def pred_and_error(model,X_test,Y_test,df_test):\n",
    "    err_fp=[]\n",
    "    err_fn=[]\n",
    "    Y_test_pred=[]\n",
    "    for i in range(len(X_test)):\n",
    "        pred_result_gold= np.argmax(model.predict(X_test[i].reshape(1,-1)))\n",
    "        Y_test_pred.append(pred_result_gold)\n",
    "        if Y_test[i] != pred_result_gold:\n",
    "            if Y_test[i] == 0:\n",
    "                err_fn.append((df_test[i],i))\n",
    "            else:\n",
    "                err_fp.append((df_test[i],i))\n",
    "    return err_fp,err_fn,Y_test_pred\n"
   ]
  },
  {
   "cell_type": "code",
   "execution_count": 603,
   "metadata": {},
   "outputs": [],
   "source": [
    "#return top num errors of false positive and false negative individually  \n",
    "def most_num_error(model_list,X_test,Y_test,df_test,num):\n",
    "    fre_index_fp={}\n",
    "    fre_index_fn={}\n",
    "    fre_error_fp=[]\n",
    "    fre_error_fn=[]\n",
    "    for model in (model_list):\n",
    "        err_fp,err_fn,Y_test_pred=pred_and_error(model,X_test,Y_test,df_test)\n",
    "        for error in err_fp:\n",
    "            if error[1] in fre_index_fp:\n",
    "                fre_index_fp[error[1]]+=1\n",
    "            else:\n",
    "                fre_index_fp[error[1]]=1\n",
    "        for error in err_fn:\n",
    "            if error[1] in fre_index_fn:\n",
    "                fre_index_fn[error[1]]+=1\n",
    "            else:\n",
    "                fre_index_fn[error[1]]=1\n",
    "    sorted_fp=sorted(fre_index_fp.items(),key=operator.itemgetter(1),reverse=True)[:num]\n",
    "    for i in range(len(sorted_fp)):\n",
    "        fre_error_fp.append((df_doc_test[sorted_fp[i][0]],sorted_fp[i][1]))\n",
    "    sorted_fn=sorted(fre_index_fn.items(),key=operator.itemgetter(1),reverse=True)[:num]\n",
    "    for i in range(len(sorted_fp)):\n",
    "        fre_error_fn.append((df_doc_test[sorted_fn[i][0]],sorted_fn[i][1]))\n",
    "    \n",
    "    return fre_error_fp,fre_error_fn\n",
    "    \n",
    "    \n"
   ]
  },
  {
   "cell_type": "code",
   "execution_count": 604,
   "metadata": {},
   "outputs": [],
   "source": [
    "#preprocess single review  \n",
    "def standarize_test(X_train, X_test):\n",
    "    scaler = StandardScaler()\n",
    "    scaler.fit(X_train)\n",
    "    X_test = scaler.transform(X_test)\n",
    "    return  X_test\n",
    "\n",
    "def preprocess_test(df_train,df_error):\n",
    "    \n",
    "    vocabulary=get_vocabulary(df_train)\n",
    "    \n",
    "    X_train, Y_train = text2vec(df_train,vocabulary)\n",
    "    \n",
    "    X_error, Y_error = text2vec(df_error,vocabulary)\n",
    "    \n",
    "    X_error=standarize_test(X_train, X_error)\n",
    "    \n",
    "        \n",
    "    return X_error"
   ]
  },
  {
   "cell_type": "code",
   "execution_count": 605,
   "metadata": {},
   "outputs": [],
   "source": [
    "%matplotlib inline \n",
    "from sklearn.metrics import confusion_matrix\n",
    "import matplotlib.pyplot as plt \n",
    "import seaborn as sns\n",
    "def confusion_mx(Y_test_pred,Y_test):\n",
    "    conf_mx=confusion_matrix(Y_test_pred,Y_test)\n",
    "    sns.heatmap(conf_mx, annot=True)\n",
    "    plt.ylabel('True Label')\n",
    "    plt.xlabel('Predicted Label')\n",
    "    plt.title('Confusion Matrix')\n",
    "    plt.show()\n",
    "    row_sums=conf_mx.sum(axis=1,keepdims=True) \n",
    "    norm_conf_mx=conf_mx/row_sums\n",
    "    sns.heatmap( norm_conf_mx,annot=True)\n",
    "    plt.ylabel('True Label')\n",
    "    plt.xlabel('Predicted Label')\n",
    "    plt.title('confusion matrix')\n",
    "    plt.show()"
   ]
  },
  {
   "cell_type": "code",
   "execution_count": 602,
   "metadata": {},
   "outputs": [],
   "source": [
    "def vocabulary_test(df_true_false,num):\n",
    "    dict_word_freq={}  \n",
    "    for i in range(0,len(df_true_false)):\n",
    "      sentence_tokens=get_list_tokens(df_true_false[i])\n",
    "      for word in sentence_tokens:\n",
    "        if word in stopwords: \n",
    "          continue\n",
    "        if word not in dict_word_freq: \n",
    "          dict_word_freq[word]=1\n",
    "        else: \n",
    "          dict_word_freq[word]+=1\n",
    "\n",
    "    sorted_list = sorted(dict_word_freq.items(), key=operator.itemgetter(1), reverse=True)[:num]\n",
    "    vocabulary=[]\n",
    "    for word,frequency in sorted_list:\n",
    "      vocabulary.append(word)\n",
    "    \n",
    "    return vocabulary \n",
    "\n",
    "#return most frequently used words in true reviews and deceptive reviews\n",
    "def unique_voca(ds_true,ds_false,num):\n",
    "    unique_true_doc=[]\n",
    "    unique_false_doc=[]\n",
    "    voca_true_doc=vocabulary_test(ds_true,num)\n",
    "    voca_false_doc=vocabulary_test(ds_false,num)\n",
    "    for i in voca_true_doc:\n",
    "        if i not in voca_false_doc:\n",
    "            unique_true_doc.append(i)\n",
    "    for i in voca_false_doc:\n",
    "        if i not in voca_true_doc:\n",
    "            unique_false_doc.append(i)\n",
    "    return unique_true_doc,unique_false_doc\n",
    "    "
   ]
  },
  {
   "cell_type": "code",
   "execution_count": 615,
   "metadata": {},
   "outputs": [
    {
     "name": "stdout",
     "output_type": "stream",
     "text": [
      "most 4-true but predict as false(0):\n",
      "\n",
      "([\"'This is a fantastic doctor!!!  I went to him b/c I had already had two capsular contractures since my previous breast augmentation.  He was very helpful, patient, and answered all of my questions.  I quickly scheduled my surgery, and I am beyond happy with the results.  I will definitely be using him again the future!!\", 1], 5)\n",
      "\n",
      "(['\"I know you probably don\\'t need to read another review about how amazing Doctor Forrest is but one feels the pressing need to tell the world about this surgeon. He is extraordinary. He is kind, patient, gentle and brilliant at what he does. If you get referred to Doctor Forrest count yourself a hundred thousand times lucky. He operated on my daughter for her craniosynistosis and did such a wonderful job. He goes above and beyond the call of duty and makes you feel you are taken care of and listened to. I think he is the finest doctor I have ever encountered. His staff obviously feel the same as every nurse and practitioner I encountered at Toronto Sick Kids spoke of him with the most revered tone and respect. Simply Amazing.', 1], 4)\n",
      "\n",
      "([\"'After leaving my previous doctor in tears because she said I had to see a psychiatrist as there was nothing wrong with me I vowed to find a more understanding doctor. I am very fortunate that Dr. Nave was taking new patients when I began my search. I have fibromyalgia and chronic pain and all the problems that go with it. Dr. Nave does not try to cram too many patients into a day so she has the time to spend and to a listening ear as well as sound medical advice. On a rare occasion when she is running a few minutes late she apologizes for keeping me waiting. We need more doctors like her who are caring for patients first and making money second.\", 1], 2)\n",
      "\n",
      "([\"'I would recommend Dr. Hasell.  I had a BA on July 22 and I am very happy with the results.  Peggy was friendly with me in person and on the phone.  I called a couple of times with questions after my surgery and she was very helpful.  Dr. Hasell called me back at home the day after surgery because I had concerns about having lots of swelling in my body.  He said it was due to the anesthetic and the I.V. Also, just prior to surgery I was quite emotional and he was very comforting with me.\", 1], 1)\n",
      "\n",
      "most 4-Fasle but predict as true(1) :\n",
      "\n",
      "([\"'This doctor did a miracle with my breats lift and augmentation. It has been three months now and it is perfection.  All the other doctors that I saw told me that I would have to get other surgeries after the first one because I was a difficult case and they were charging me $13,000 plus the touch up.  Dr. Silverman is so calm and perfectionnist and his staff is super.  I am getting another surgery with him and I trust him like I never trust any doctors before.\", 1], 5)\n",
      "\n",
      "(['\"Dr.Stalker is a very friendly and knowledgeable doctor! She has a lot of patience and is highly willing to explain everything about your options, medications and procedures to you, and makes great recommendations. She\\'s efficient and doesn\\'t make you wait too long, but gives enough time to each of her patients to make sure you feel comfortable. Plus, she\\'s very reliable with regard to the quality of care you\\'ll get. Excellent doctor!', 0], 5)\n",
      "\n",
      "([\"'Dr. Luna is a great doctor. Not only does he help with my ailment and treat me, but he goes above and beyond to connect with me and make me comfortable. He always takes time to ask me about my life and asks about my grandchildren. The wait time is consistently less than 10 minutes. His support staff is very nice and professional. Even though he is a very popular doctor, he still works me in when I really need to be seen.\", 0], 5)\n",
      "\n",
      "(['\"To this day, I cannot thank Dr. Elhai enough for what he has given back to me. I had a severe cleft lip, which my family could not afford to fix through surgery. Thus, I would always find myself being picked on by other people during school. One time, the bullies were particularly mean and they decided that my face was apparently not ugly enough because they proceeded to pummel my face to a bloody pulp. Following weeks of emergency room recovery, my nose was contorted out of position due to it being fractured and both of my cheeks were misshaped due to their multiple fractures. The doctors in Whales said that there was nothing that they could possibly do due to the degree of damage done to my face. Needless to say, I was mortified; I didn\\'t want my face to attract any more negative attention. ', 0], 2)\n",
      "\n"
     ]
    }
   ],
   "source": [
    "fre_error_fp,fre_error_fn=most_num_error([relu_res,L2_res,lr_res,tanh_res,drop_res],X_res_test,Y_res_test,df_res_test,4)\n",
    "print(\"most 4-true but predict as false(0):\\n\")\n",
    "for i in range(len(fre_error_fp)):\n",
    "    print(fre_error_fp[i],end=\"\\n\\n\")\n",
    "print(\"most 4-Fasle but predict as true(1) :\\n\")\n",
    "for i in range(len(fre_error_fn)):\n",
    "    print(fre_error_fn[i],end=\"\\n\\n\")\n"
   ]
  },
  {
   "cell_type": "code",
   "execution_count": 616,
   "metadata": {},
   "outputs": [],
   "source": [
    "df_error1=[[\"'This is a fantastic doctor!!!  I went to him b/c I had already had two capsular contractures since my previous breast augmentation.  He was very helpful, patient, and answered all of my questions.  \\\n",
    "I quickly scheduled my surgery, and I am beyond happy with the results.  \\\n",
    "I will definitely be using him again the future!!\", 1]]"
   ]
  },
  {
   "cell_type": "code",
   "execution_count": 617,
   "metadata": {},
   "outputs": [],
   "source": [
    "X_error1=preprocess_test(df_doc_train,df_error1)"
   ]
  },
  {
   "cell_type": "code",
   "execution_count": 618,
   "metadata": {},
   "outputs": [
    {
     "name": "stdout",
     "output_type": "stream",
     "text": [
      "relu_res [[0.56588644 0.43411356]]\n",
      "L2_res [[0.4893885 0.5106115]]\n",
      "lr_res [[0.47576532 0.5242347 ]]\n",
      "tanh_res [[0.47283974 0.5271602 ]]\n",
      "drop_res [[0.5822308  0.41776922]]\n"
     ]
    }
   ],
   "source": [
    "np.set_printoptions(suppress=True)\n",
    "model_list=[(relu_res,\"relu_res\"),(L2_res,\"L2_res\"),(lr_res,\"lr_res\"),(tanh_res,\"tanh_res\"),(drop_res,\"drop_res\")]\n",
    "for i in model_list:\n",
    "    print(i[1],i[0].predict(X_error2.reshape(1,-1)))"
   ]
  },
  {
   "cell_type": "code",
   "execution_count": 686,
   "metadata": {},
   "outputs": [],
   "source": [
    "err_fp,err_fn,Y_test_pred=pred_and_error(tanh_res,X_res_test,Y_res_test,df_res_test)"
   ]
  },
  {
   "cell_type": "code",
   "execution_count": 687,
   "metadata": {},
   "outputs": [],
   "source": [
    "unique_true_res,unique_false_res=unique_voca(ds_res_true,ds_res_false,150)"
   ]
  },
  {
   "cell_type": "code",
   "execution_count": 689,
   "metadata": {},
   "outputs": [
    {
     "data": {
      "text/plain": [
       "array(['love', 'decided', 'favorite', 'weber', 'perfectly', 'family',\n",
       "       'quality', 'signature', 'anyone', 'quartino', 'taste', 'looking',\n",
       "       'sure', 'pig', 'highly', 'ditka', 'prime', 'never', 'absolutely',\n",
       "       'new', 'feel', 'purple', 'arrived', 'full', 'something',\n",
       "       'perfection', 'way', 'overall', 'selection', 'greeted', 'found',\n",
       "       'last', 'clean', 'quickly', 'girl', 'loved', 'mike', 'fantastic',\n",
       "       'tried', 'flavor', 'entree', 'started', 'find', 'decor', 'soon',\n",
       "       'course', 'ca'], dtype='<U10')"
      ]
     },
     "execution_count": 689,
     "metadata": {},
     "output_type": "execute_result"
    }
   ],
   "source": [
    "np.array(unique_false_res)"
   ]
  },
  {
   "cell_type": "code",
   "execution_count": 690,
   "metadata": {},
   "outputs": [
    {
     "data": {
      "text/plain": [
       "array(['people', 'view', 'plate', 'side', 'two', 'day', 'served',\n",
       "       'without', 'cake', 'tasty', 'took', 'small', 'around', 'ate',\n",
       "       'large', 'hour', '2', 'burger', 'though', 'fun', 'pork',\n",
       "       'different', 'lot', 'big', 'shared', 'see', 'potato', 'sauce',\n",
       "       'share', 'top', 'pizza', 'item', 'year', 'know', 'enough',\n",
       "       'attentive', 'rib', 'going', 'lobster', 'outstanding', 'busy',\n",
       "       'enjoy', 'three', 'long', 'cheese', 'chicken', \"'d\"], dtype='<U11')"
      ]
     },
     "execution_count": 690,
     "metadata": {},
     "output_type": "execute_result"
    }
   ],
   "source": [
    "np.array(unique_true_res)"
   ]
  },
  {
   "cell_type": "code",
   "execution_count": 624,
   "metadata": {},
   "outputs": [],
   "source": [
    "err_fp,err_fn,Y_test_pred=pred_and_error(tanh_res,X_res_test,Y_res_test,df_res_test)"
   ]
  },
  {
   "cell_type": "code",
   "execution_count": 625,
   "metadata": {},
   "outputs": [
    {
     "data": {
      "image/png": "[encoded data removed]",
      "text/plain": [
       "<Figure size 432x288 with 2 Axes>"
      ]
     },
     "metadata": {
      "needs_background": "light"
     },
     "output_type": "display_data"
    },
    {
     "data": {
      "image/png": "[encoded data removed]",
      "text/plain": [
       "<Figure size 432x288 with 2 Axes>"
      ]
     },
     "metadata": {
      "needs_background": "light"
     },
     "output_type": "display_data"
    }
   ],
   "source": [
    "confusion_mx(Y_test_pred,Y_res_test)"
   ]
  }
 ],
 "metadata": {
  "colab": {
   "name": "Group 14_3.ipynb",
   "provenance": []
  },
  "kernelspec": {
   "display_name": "Python 3",
   "language": "python",
   "name": "python3"
  },
  "language_info": {
   "codemirror_mode": {
    "name": "ipython",
    "version": 3
   },
   "file_extension": ".py",
   "mimetype": "text/x-python",
   "name": "python",
   "nbconvert_exporter": "python",
   "pygments_lexer": "ipython3",
   "version": "3.7.6"
  }
 },
 "nbformat": 4,
 "nbformat_minor": 1
}
